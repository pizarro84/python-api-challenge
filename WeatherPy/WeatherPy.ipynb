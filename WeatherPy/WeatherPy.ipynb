{
 "cells": [
  {
   "cell_type": "markdown",
   "metadata": {},
   "source": [
    "# WeatherPy\n",
    "----\n",
    "\n",
    "#### Note\n",
    "* Instructions have been included for each segment. You do not have to follow them exactly, but they are included to help you think through the steps."
   ]
  },
  {
   "cell_type": "code",
   "execution_count": 105,
   "metadata": {
    "scrolled": true
   },
   "outputs": [
    {
     "data": {
      "text/plain": [
       "'2021-01-10'"
      ]
     },
     "execution_count": 105,
     "metadata": {},
     "output_type": "execute_result"
    }
   ],
   "source": [
    "import requests\n",
    "import json\n",
    "import api_keys\n",
    "import random\n",
    "import time\n",
    "import matplotlib.pyplot as plt\n",
    "import pandas as pd\n",
    "import scipy.stats as st\n",
    "import datetime\n",
    "\n",
    "# create variables for plot label and filename dates\n",
    "datetoday = datetime.datetime.now().strftime('%d/%m/%y')\n",
    "datefilename = datetime.datetime.now().strftime('%Y-%m-%d')\n",
    "\n",
    "# install citypy to utilise below \n",
    "from citipy import citipy"
   ]
  },
  {
   "cell_type": "markdown",
   "metadata": {},
   "source": [
    "## Generate Cities List"
   ]
  },
  {
   "cell_type": "code",
   "execution_count": 2,
   "metadata": {
    "scrolled": true
   },
   "outputs": [
    {
     "data": {
      "text/plain": [
       "650"
      ]
     },
     "execution_count": 2,
     "metadata": {},
     "output_type": "execute_result"
    }
   ],
   "source": [
    "#generate cities\n",
    "# declare counter and max count\n",
    "ctr = 0\n",
    "max_ct = 650\n",
    "city_list = []\n",
    "\n",
    "while ctr < max_ct:\n",
    "    # randomise longitude and latitude\n",
    "    latitude = round(random.uniform(-90.00,90.00),2) \n",
    "    longitude = round(random.uniform(-180.00,180.00),2)\n",
    "    # get city details\n",
    "    city = citipy.nearest_city(latitude,longitude)\n",
    "\n",
    "    # prevent duplicate cities in the main list\n",
    "    if city.city_name not in city_list:\n",
    "        ctr += 1\n",
    "        city_list.append(city.city_name)\n",
    "\n",
    "len(city_list)"
   ]
  },
  {
   "cell_type": "markdown",
   "metadata": {},
   "source": [
    "### Perform API Calls\n",
    "* Perform a weather check on each city using a series of successive API calls.\n",
    "* Include a print log of each city as it'sbeing processed (with the city number and city name).\n"
   ]
  },
  {
   "cell_type": "code",
   "execution_count": 3,
   "metadata": {},
   "outputs": [
    {
     "name": "stdout",
     "output_type": "stream",
     "text": [
      "Beginning Data Retrieval \n",
      "--------------------------------------------------------------\n",
      "Processing Record 1 of Set 1 | san quintin\n",
      "Processing Record 2 of Set 1 | nikolskoye\n",
      "Processing Record 3 of Set 1 | port alfred\n",
      "Processing Record 4 of Set 1 | touros\n",
      "Processing Record 5 of Set 1 | charters towers\n",
      "Processing Record 6 of Set 1 | ilulissat\n",
      "City not found. Skipping...\n",
      "Processing Record 7 of Set 1 | ushuaia\n",
      "Processing Record 8 of Set 1 | kabinda\n",
      "Processing Record 9 of Set 1 | busselton\n",
      "Processing Record 10 of Set 1 | hermanus\n",
      "Processing Record 11 of Set 1 | kargasok\n",
      "Processing Record 12 of Set 1 | punta arenas\n",
      "Processing Record 13 of Set 1 | weiser\n",
      "Processing Record 14 of Set 1 | saint-philippe\n",
      "Processing Record 15 of Set 1 | ferme-neuve\n",
      "Processing Record 16 of Set 1 | bredasdorp\n",
      "Processing Record 17 of Set 1 | mareeba\n",
      "Processing Record 18 of Set 1 | kapaa\n",
      "Processing Record 19 of Set 1 | makakilo city\n",
      "Processing Record 20 of Set 1 | northam\n",
      "Processing Record 21 of Set 1 | vaini\n",
      "Processing Record 22 of Set 1 | jamestown\n",
      "Processing Record 23 of Set 1 | breves\n",
      "Processing Record 24 of Set 1 | formosa do rio preto\n",
      "Processing Record 25 of Set 1 | sola\n",
      "Processing Record 26 of Set 1 | leningradskiy\n",
      "Processing Record 27 of Set 1 | saint-felicien\n",
      "Processing Record 28 of Set 1 | cidreira\n",
      "Processing Record 29 of Set 1 | ixtapa\n",
      "Processing Record 30 of Set 1 | bethel\n",
      "Processing Record 31 of Set 1 | filadelfia\n",
      "Processing Record 32 of Set 1 | severo-kurilsk\n",
      "City not found. Skipping...\n",
      "Processing Record 33 of Set 1 | susanville\n",
      "Processing Record 34 of Set 1 | dikson\n",
      "Processing Record 35 of Set 1 | alofi\n",
      "Processing Record 36 of Set 1 | villa carlos paz\n",
      "City not found. Skipping...\n",
      "Processing Record 37 of Set 1 | taltal\n",
      "Processing Record 38 of Set 1 | jizan\n",
      "Processing Record 39 of Set 1 | butaritari\n",
      "Processing Record 40 of Set 1 | beringovskiy\n",
      "Processing Record 41 of Set 1 | sitka\n",
      "Processing Record 42 of Set 1 | barrow\n",
      "Processing Record 43 of Set 1 | bluff\n",
      "Processing Record 44 of Set 1 | new norfolk\n",
      "City not found. Skipping...\n",
      "Processing Record 45 of Set 1 | grindavik\n",
      "Processing Record 46 of Set 1 | cape town\n",
      "Processing Record 47 of Set 1 | victoria\n",
      "Processing Record 48 of Set 1 | sawakin\n",
      "Processing Record 49 of Set 1 | dingle\n",
      "Processing Record 50 of Set 1 | tuktoyaktuk\n",
      "Processing Record 1 of Set 2 | caravelas\n",
      "Processing Record 2 of Set 2 | coihaique\n",
      "Processing Record 3 of Set 2 | carnarvon\n",
      "Processing Record 4 of Set 2 | saldanha\n",
      "Processing Record 5 of Set 2 | roebourne\n",
      "Processing Record 6 of Set 2 | bambous virieux\n",
      "Processing Record 7 of Set 2 | naryan-mar\n",
      "Processing Record 8 of Set 2 | hasaki\n",
      "Processing Record 9 of Set 2 | mataura\n",
      "Processing Record 10 of Set 2 | port hardy\n",
      "Processing Record 11 of Set 2 | plettenberg bay\n",
      "Processing Record 12 of Set 2 | sao filipe\n",
      "Processing Record 13 of Set 2 | tholen\n",
      "Processing Record 14 of Set 2 | rikitea\n",
      "Processing Record 15 of Set 2 | nhulunbuy\n",
      "Processing Record 16 of Set 2 | anjozorobe\n",
      "Processing Record 17 of Set 2 | khatanga\n",
      "City not found. Skipping...\n",
      "Processing Record 18 of Set 2 | saint-pierre\n",
      "Processing Record 19 of Set 2 | berlevag\n",
      "City not found. Skipping...\n",
      "Processing Record 20 of Set 2 | college station\n",
      "Processing Record 21 of Set 2 | kungurtug\n",
      "Processing Record 22 of Set 2 | merauke\n",
      "Processing Record 23 of Set 2 | roma\n",
      "Processing Record 24 of Set 2 | albany\n",
      "Processing Record 25 of Set 2 | clyde river\n",
      "Processing Record 26 of Set 2 | tilichiki\n",
      "Processing Record 27 of Set 2 | sorong\n",
      "Processing Record 28 of Set 2 | aguada de pasajeros\n",
      "Processing Record 29 of Set 2 | avarua\n",
      "Processing Record 30 of Set 2 | batticaloa\n",
      "Processing Record 31 of Set 2 | olinda\n",
      "Processing Record 32 of Set 2 | atuona\n",
      "Processing Record 33 of Set 2 | atar\n",
      "Processing Record 34 of Set 2 | talnakh\n",
      "Processing Record 35 of Set 2 | qaanaaq\n",
      "Processing Record 36 of Set 2 | moose factory\n",
      "Processing Record 37 of Set 2 | ponta do sol\n",
      "City not found. Skipping...\n",
      "City not found. Skipping...\n",
      "Processing Record 38 of Set 2 | pyshma\n",
      "Processing Record 39 of Set 2 | hun\n",
      "Processing Record 40 of Set 2 | mezhdurechensk\n",
      "Processing Record 41 of Set 2 | pemangkat\n",
      "Processing Record 42 of Set 2 | airai\n",
      "City not found. Skipping...\n",
      "Processing Record 43 of Set 2 | stromness\n",
      "City not found. Skipping...\n",
      "Processing Record 44 of Set 2 | chokurdakh\n",
      "City not found. Skipping...\n",
      "Processing Record 45 of Set 2 | soto la marina\n",
      "Processing Record 46 of Set 2 | muisne\n",
      "Processing Record 47 of Set 2 | tasiilaq\n",
      "Processing Record 48 of Set 2 | portland\n",
      "Processing Record 49 of Set 2 | acarau\n",
      "Processing Record 50 of Set 2 | praia da vitoria\n",
      "Processing Record 1 of Set 3 | sarahan\n",
      "Processing Record 2 of Set 3 | cabo san lucas\n",
      "Processing Record 3 of Set 3 | arraial do cabo\n",
      "Processing Record 4 of Set 3 | leshukonskoye\n",
      "Processing Record 5 of Set 3 | nanortalik\n",
      "Processing Record 6 of Set 3 | zhigalovo\n",
      "Processing Record 7 of Set 3 | lagoa\n",
      "City not found. Skipping...\n",
      "Processing Record 8 of Set 3 | san juan\n",
      "Processing Record 9 of Set 3 | tessalit\n",
      "Processing Record 10 of Set 3 | aykhal\n",
      "Processing Record 11 of Set 3 | iberia\n",
      "Processing Record 12 of Set 3 | avenal\n",
      "City not found. Skipping...\n",
      "Processing Record 13 of Set 3 | saskylakh\n",
      "Processing Record 14 of Set 3 | mar del plata\n",
      "City not found. Skipping...\n",
      "Processing Record 15 of Set 3 | kenai\n",
      "Processing Record 16 of Set 3 | elbrus\n",
      "Processing Record 17 of Set 3 | puerto del rosario\n",
      "Processing Record 18 of Set 3 | havoysund\n",
      "Processing Record 19 of Set 3 | cap malheureux\n",
      "Processing Record 20 of Set 3 | salalah\n",
      "Processing Record 21 of Set 3 | carballo\n",
      "Processing Record 22 of Set 3 | krasnoborsk\n",
      "City not found. Skipping...\n",
      "Processing Record 23 of Set 3 | axim\n",
      "Processing Record 24 of Set 3 | taoudenni\n",
      "Processing Record 25 of Set 3 | chiang rai\n",
      "Processing Record 26 of Set 3 | gorontalo\n",
      "Processing Record 27 of Set 3 | chiredzi\n",
      "Processing Record 28 of Set 3 | te anau\n",
      "Processing Record 29 of Set 3 | mangrol\n",
      "Processing Record 30 of Set 3 | ketchikan\n",
      "Processing Record 31 of Set 3 | sorland\n",
      "Processing Record 32 of Set 3 | abalak\n",
      "Processing Record 33 of Set 3 | cayenne\n",
      "Processing Record 34 of Set 3 | camacupa\n",
      "Processing Record 35 of Set 3 | lira\n",
      "Processing Record 36 of Set 3 | sioux lookout\n",
      "Processing Record 37 of Set 3 | mount isa\n",
      "Processing Record 38 of Set 3 | mount gambier\n",
      "Processing Record 39 of Set 3 | kibala\n",
      "Processing Record 40 of Set 3 | yellowknife\n",
      "Processing Record 41 of Set 3 | husavik\n",
      "City not found. Skipping...\n",
      "Processing Record 42 of Set 3 | ishigaki\n",
      "Processing Record 43 of Set 3 | thompson\n",
      "Processing Record 44 of Set 3 | pappadatai\n",
      "Processing Record 45 of Set 3 | upernavik\n",
      "Processing Record 46 of Set 3 | zuhres\n",
      "Processing Record 47 of Set 3 | den helder\n",
      "Processing Record 48 of Set 3 | shizilu\n",
      "Processing Record 49 of Set 3 | floro\n",
      "Processing Record 50 of Set 3 | muros\n",
      "Processing Record 1 of Set 4 | psebay\n",
      "City not found. Skipping...\n",
      "Processing Record 2 of Set 4 | clifton\n",
      "Processing Record 3 of Set 4 | namatanai\n",
      "Processing Record 4 of Set 4 | kaitangata\n",
      "Processing Record 5 of Set 4 | bilibino\n",
      "Processing Record 6 of Set 4 | shieli\n",
      "Processing Record 7 of Set 4 | byron bay\n",
      "Processing Record 8 of Set 4 | manono\n",
      "Processing Record 9 of Set 4 | zharkent\n",
      "Processing Record 10 of Set 4 | bat khela\n",
      "Processing Record 11 of Set 4 | bengkulu\n",
      "Processing Record 12 of Set 4 | port-cartier\n",
      "Processing Record 13 of Set 4 | havelock\n",
      "Processing Record 14 of Set 4 | yuzhno-sukhokumsk\n",
      "Processing Record 15 of Set 4 | itigi\n",
      "Processing Record 16 of Set 4 | erzin\n",
      "Processing Record 17 of Set 4 | puerto ayora\n",
      "Processing Record 18 of Set 4 | nantucket\n",
      "Processing Record 19 of Set 4 | challapata\n",
      "Processing Record 20 of Set 4 | mende\n",
      "Processing Record 21 of Set 4 | ancud\n",
      "Processing Record 22 of Set 4 | port elizabeth\n",
      "Processing Record 23 of Set 4 | mezen\n",
      "Processing Record 24 of Set 4 | masunga\n",
      "Processing Record 25 of Set 4 | san carlos de bariloche\n",
      "Processing Record 26 of Set 4 | sao felix do xingu\n",
      "Processing Record 27 of Set 4 | hilo\n",
      "Processing Record 28 of Set 4 | hithadhoo\n",
      "Processing Record 29 of Set 4 | valdivia\n",
      "Processing Record 30 of Set 4 | ribeira grande\n",
      "Processing Record 31 of Set 4 | pisco\n",
      "Processing Record 32 of Set 4 | sobolevo\n",
      "Processing Record 33 of Set 4 | berdigestyakh\n"
     ]
    },
    {
     "name": "stdout",
     "output_type": "stream",
     "text": [
      "Processing Record 34 of Set 4 | moncton\n",
      "Processing Record 35 of Set 4 | east london\n",
      "Processing Record 36 of Set 4 | angoche\n",
      "Processing Record 37 of Set 4 | teahupoo\n",
      "Processing Record 38 of Set 4 | yar-sale\n",
      "Processing Record 39 of Set 4 | pangnirtung\n",
      "City not found. Skipping...\n",
      "Processing Record 40 of Set 4 | faya\n",
      "Processing Record 41 of Set 4 | deputatskiy\n",
      "Processing Record 42 of Set 4 | sal rei\n",
      "Processing Record 43 of Set 4 | kysyl-syr\n",
      "Processing Record 44 of Set 4 | kutum\n",
      "Processing Record 45 of Set 4 | saint simons\n",
      "City not found. Skipping...\n",
      "Processing Record 46 of Set 4 | baruun-urt\n",
      "Processing Record 47 of Set 4 | todos santos\n",
      "Processing Record 48 of Set 4 | chapais\n",
      "Processing Record 49 of Set 4 | luderitz\n",
      "Processing Record 50 of Set 4 | pierre\n",
      "Processing Record 1 of Set 5 | ouango\n",
      "Processing Record 2 of Set 5 | bisira\n",
      "Processing Record 3 of Set 5 | pevek\n",
      "City not found. Skipping...\n",
      "Processing Record 4 of Set 5 | jinchang\n",
      "Processing Record 5 of Set 5 | nioki\n",
      "Processing Record 6 of Set 5 | hobart\n",
      "Processing Record 7 of Set 5 | qui nhon\n",
      "Processing Record 8 of Set 5 | evensk\n",
      "Processing Record 9 of Set 5 | port lincoln\n",
      "Processing Record 10 of Set 5 | norman wells\n",
      "Processing Record 11 of Set 5 | malanje\n",
      "Processing Record 12 of Set 5 | lebu\n",
      "Processing Record 13 of Set 5 | samarai\n",
      "Processing Record 14 of Set 5 | acapulco\n",
      "Processing Record 15 of Set 5 | kruisfontein\n",
      "Processing Record 16 of Set 5 | houston\n",
      "Processing Record 17 of Set 5 | coos bay\n",
      "Processing Record 18 of Set 5 | belmonte\n",
      "Processing Record 19 of Set 5 | tuatapere\n",
      "Processing Record 20 of Set 5 | shache\n",
      "Processing Record 21 of Set 5 | ambon\n",
      "Processing Record 22 of Set 5 | saint anthony\n",
      "Processing Record 23 of Set 5 | karagay\n",
      "Processing Record 24 of Set 5 | chuy\n",
      "Processing Record 25 of Set 5 | kodinar\n",
      "Processing Record 26 of Set 5 | longyearbyen\n",
      "City not found. Skipping...\n",
      "Processing Record 27 of Set 5 | hamilton\n",
      "Processing Record 28 of Set 5 | okato\n",
      "Processing Record 29 of Set 5 | caluquembe\n",
      "City not found. Skipping...\n",
      "Processing Record 30 of Set 5 | morada nova\n",
      "Processing Record 31 of Set 5 | klaksvik\n",
      "Processing Record 32 of Set 5 | otuzco\n",
      "Processing Record 33 of Set 5 | basco\n",
      "Processing Record 34 of Set 5 | manaure\n",
      "City not found. Skipping...\n",
      "Processing Record 35 of Set 5 | qaqortoq\n",
      "Processing Record 36 of Set 5 | camana\n",
      "City not found. Skipping...\n",
      "Processing Record 37 of Set 5 | iqaluit\n",
      "Processing Record 38 of Set 5 | victor harbor\n",
      "Processing Record 39 of Set 5 | miracema do tocantins\n",
      "Processing Record 40 of Set 5 | kirakira\n",
      "Processing Record 41 of Set 5 | vaitape\n",
      "Processing Record 42 of Set 5 | sakakah\n",
      "Processing Record 43 of Set 5 | omegna\n",
      "Processing Record 44 of Set 5 | kavieng\n",
      "Processing Record 45 of Set 5 | turukhansk\n",
      "Processing Record 46 of Set 5 | creel\n",
      "Processing Record 47 of Set 5 | fort thomas\n",
      "Processing Record 48 of Set 5 | chicama\n",
      "Processing Record 49 of Set 5 | nuuk\n",
      "Processing Record 50 of Set 5 | baykit\n",
      "Processing Record 1 of Set 6 | sao geraldo do araguaia\n",
      "Processing Record 2 of Set 6 | puerto cabezas\n",
      "Processing Record 3 of Set 6 | flinders\n",
      "Processing Record 4 of Set 6 | mongu\n",
      "Processing Record 5 of Set 6 | petropavlovsk-kamchatskiy\n",
      "Processing Record 6 of Set 6 | derzhavinsk\n",
      "Processing Record 7 of Set 6 | churu\n",
      "Processing Record 8 of Set 6 | sabha\n",
      "Processing Record 9 of Set 6 | abu dhabi\n",
      "Processing Record 10 of Set 6 | elk city\n",
      "Processing Record 11 of Set 6 | vila velha\n",
      "Processing Record 12 of Set 6 | willowmore\n",
      "Processing Record 13 of Set 6 | aktas\n",
      "Processing Record 14 of Set 6 | dudinka\n",
      "Processing Record 15 of Set 6 | khani\n",
      "City not found. Skipping...\n",
      "Processing Record 16 of Set 6 | maracacume\n",
      "Processing Record 17 of Set 6 | meulaboh\n",
      "Processing Record 18 of Set 6 | salinopolis\n",
      "Processing Record 19 of Set 6 | bahia blanca\n",
      "Processing Record 20 of Set 6 | barranca\n",
      "Processing Record 21 of Set 6 | jaciara\n",
      "Processing Record 22 of Set 6 | biloela\n",
      "Processing Record 23 of Set 6 | kodiak\n",
      "Processing Record 24 of Set 6 | grand gaube\n",
      "Processing Record 25 of Set 6 | wad madani\n",
      "Processing Record 26 of Set 6 | soyo\n",
      "Processing Record 27 of Set 6 | betsiamites\n",
      "Processing Record 28 of Set 6 | general roca\n",
      "Processing Record 29 of Set 6 | hambantota\n",
      "Processing Record 30 of Set 6 | bereda\n",
      "Processing Record 31 of Set 6 | mhlambanyatsi\n",
      "Processing Record 32 of Set 6 | bermejo\n",
      "Processing Record 33 of Set 6 | cortez\n",
      "Processing Record 34 of Set 6 | oneonta\n",
      "Processing Record 35 of Set 6 | poshekhonye\n",
      "Processing Record 36 of Set 6 | carutapera\n",
      "Processing Record 37 of Set 6 | provideniya\n",
      "Processing Record 38 of Set 6 | juba\n",
      "Processing Record 39 of Set 6 | castro\n",
      "Processing Record 40 of Set 6 | koslan\n",
      "Processing Record 41 of Set 6 | arman\n",
      "Processing Record 42 of Set 6 | isangel\n",
      "Processing Record 43 of Set 6 | jimeta\n",
      "Processing Record 44 of Set 6 | torbay\n",
      "Processing Record 45 of Set 6 | aloleng\n",
      "Processing Record 46 of Set 6 | manggar\n",
      "Processing Record 47 of Set 6 | sur\n",
      "Processing Record 48 of Set 6 | socorro\n",
      "City not found. Skipping...\n",
      "City not found. Skipping...\n",
      "Processing Record 49 of Set 6 | ambilobe\n",
      "Processing Record 50 of Set 6 | sept-iles\n",
      "Processing Record 1 of Set 7 | hukuntsi\n",
      "Processing Record 2 of Set 7 | monchegorsk\n",
      "Processing Record 3 of Set 7 | port-gentil\n",
      "Processing Record 4 of Set 7 | baghdad\n",
      "Processing Record 5 of Set 7 | port blair\n",
      "Processing Record 6 of Set 7 | alta floresta\n",
      "Processing Record 7 of Set 7 | tual\n",
      "Processing Record 8 of Set 7 | tiksi\n",
      "Processing Record 9 of Set 7 | san pedro\n",
      "City not found. Skipping...\n",
      "Processing Record 10 of Set 7 | rovinj\n",
      "Processing Record 11 of Set 7 | port augusta\n",
      "Processing Record 12 of Set 7 | andenes\n",
      "Processing Record 13 of Set 7 | savannah bight\n",
      "Processing Record 14 of Set 7 | constitucion\n",
      "Processing Record 15 of Set 7 | nola\n",
      "Processing Record 16 of Set 7 | friesoythe\n",
      "Processing Record 17 of Set 7 | mwinilunga\n",
      "City not found. Skipping...\n",
      "Processing Record 18 of Set 7 | moscow\n",
      "Processing Record 19 of Set 7 | tezu\n",
      "Processing Record 20 of Set 7 | valentin gomez farias\n",
      "Processing Record 21 of Set 7 | kavaratti\n",
      "Processing Record 22 of Set 7 | huilong\n",
      "Processing Record 23 of Set 7 | vanimo\n",
      "Processing Record 24 of Set 7 | les escoumins\n",
      "Processing Record 25 of Set 7 | ko samui\n",
      "Processing Record 26 of Set 7 | cairns\n",
      "Processing Record 27 of Set 7 | ife\n",
      "Processing Record 28 of Set 7 | riyadh\n",
      "Processing Record 29 of Set 7 | adrar\n",
      "Processing Record 30 of Set 7 | nome\n",
      "Processing Record 31 of Set 7 | tecoanapa\n",
      "Processing Record 32 of Set 7 | codrington\n",
      "Processing Record 33 of Set 7 | shakhtinsk\n",
      "Processing Record 34 of Set 7 | mahebourg\n",
      "Processing Record 35 of Set 7 | beaverlodge\n",
      "Processing Record 36 of Set 7 | buala\n",
      "Processing Record 37 of Set 7 | jardim\n",
      "Processing Record 38 of Set 7 | sycamore\n",
      "Processing Record 39 of Set 7 | shetpe\n",
      "Processing Record 40 of Set 7 | zyryanka\n",
      "Processing Record 41 of Set 7 | christchurch\n",
      "Processing Record 42 of Set 7 | esperance\n",
      "Processing Record 43 of Set 7 | usinsk\n",
      "Processing Record 44 of Set 7 | boyolangu\n",
      "Processing Record 45 of Set 7 | georgetown\n",
      "Processing Record 46 of Set 7 | san cristobal\n",
      "Processing Record 47 of Set 7 | puurmani\n",
      "Processing Record 48 of Set 7 | vardo\n",
      "Processing Record 49 of Set 7 | la ronge\n",
      "Processing Record 50 of Set 7 | lavrentiya\n",
      "Processing Record 1 of Set 8 | senno\n",
      "Processing Record 2 of Set 8 | ugoofaaru\n",
      "Processing Record 3 of Set 8 | puerto lopez\n",
      "Processing Record 4 of Set 8 | kuching\n",
      "Processing Record 5 of Set 8 | matara\n",
      "Processing Record 6 of Set 8 | visnes\n",
      "Processing Record 7 of Set 8 | vostok\n",
      "Processing Record 8 of Set 8 | saint-paul\n",
      "Processing Record 9 of Set 8 | masterton\n",
      "Processing Record 10 of Set 8 | broken hill\n",
      "Processing Record 11 of Set 8 | ghanzi\n",
      "Processing Record 12 of Set 8 | vestmanna\n",
      "Processing Record 13 of Set 8 | shenjiamen\n",
      "Processing Record 14 of Set 8 | roald\n",
      "City not found. Skipping...\n",
      "Processing Record 15 of Set 8 | henties bay\n",
      "Processing Record 16 of Set 8 | dali\n",
      "Processing Record 17 of Set 8 | paamiut\n",
      "Processing Record 18 of Set 8 | nabire\n",
      "Processing Record 19 of Set 8 | kralendijk\n",
      "Processing Record 20 of Set 8 | quthing\n",
      "Processing Record 21 of Set 8 | nyurba\n",
      "Processing Record 22 of Set 8 | kindu\n",
      "Processing Record 23 of Set 8 | salinas\n",
      "Processing Record 24 of Set 8 | ekibastuz\n"
     ]
    },
    {
     "name": "stdout",
     "output_type": "stream",
     "text": [
      "City not found. Skipping...\n",
      "Processing Record 25 of Set 8 | el tigre\n",
      "Processing Record 26 of Set 8 | danane\n",
      "Processing Record 27 of Set 8 | hirara\n",
      "Processing Record 28 of Set 8 | jadu\n",
      "Processing Record 29 of Set 8 | marsh harbour\n",
      "Processing Record 30 of Set 8 | muzhi\n",
      "Processing Record 31 of Set 8 | maniitsoq\n",
      "Processing Record 32 of Set 8 | comodoro rivadavia\n",
      "City not found. Skipping...\n",
      "Processing Record 33 of Set 8 | pyinmana\n",
      "Processing Record 34 of Set 8 | ust-nera\n",
      "Processing Record 35 of Set 8 | pachino\n",
      "Processing Record 36 of Set 8 | san patricio\n",
      "Processing Record 37 of Set 8 | walvis bay\n",
      "Processing Record 38 of Set 8 | petatlan\n",
      "Processing Record 39 of Set 8 | acajutla\n",
      "Processing Record 40 of Set 8 | inhumas\n",
      "Processing Record 41 of Set 8 | ambanja\n",
      "Processing Record 42 of Set 8 | hobyo\n",
      "Processing Record 43 of Set 8 | cambrils\n",
      "Processing Record 44 of Set 8 | kosum phisai\n",
      "Processing Record 45 of Set 8 | yulara\n",
      "Processing Record 46 of Set 8 | tarko-sale\n",
      "Processing Record 47 of Set 8 | necochea\n",
      "Processing Record 48 of Set 8 | road town\n",
      "Processing Record 49 of Set 8 | shanghai\n",
      "Processing Record 50 of Set 8 | egvekinot\n",
      "Processing Record 1 of Set 9 | karratha\n",
      "Processing Record 2 of Set 9 | faanui\n",
      "Processing Record 3 of Set 9 | narsaq\n",
      "Processing Record 4 of Set 9 | curvelo\n",
      "Processing Record 5 of Set 9 | geghamasar\n",
      "Processing Record 6 of Set 9 | poum\n",
      "Processing Record 7 of Set 9 | kamaishi\n",
      "Processing Record 8 of Set 9 | barcelos\n",
      "Processing Record 9 of Set 9 | xuddur\n",
      "Processing Record 10 of Set 9 | cockburn town\n",
      "Processing Record 11 of Set 9 | cache creek\n",
      "Processing Record 12 of Set 9 | krasnoarmeysk\n",
      "Processing Record 13 of Set 9 | panjakent\n",
      "Processing Record 14 of Set 9 | nicoya\n",
      "Processing Record 15 of Set 9 | puerto baquerizo moreno\n",
      "City not found. Skipping...\n",
      "Processing Record 16 of Set 9 | bougouni\n",
      "Processing Record 17 of Set 9 | reconquista\n",
      "Processing Record 18 of Set 9 | geraldton\n",
      "Processing Record 19 of Set 9 | teguise\n",
      "Processing Record 20 of Set 9 | auki\n",
      "Processing Record 21 of Set 9 | olga\n",
      "Processing Record 22 of Set 9 | metro\n",
      "City not found. Skipping...\n",
      "Processing Record 23 of Set 9 | nemuro\n",
      "Processing Record 24 of Set 9 | cherskiy\n",
      "Processing Record 25 of Set 9 | hami\n",
      "Processing Record 26 of Set 9 | takoradi\n",
      "Processing Record 27 of Set 9 | kahului\n",
      "Processing Record 28 of Set 9 | broome\n",
      "Processing Record 29 of Set 9 | aksarka\n",
      "Processing Record 30 of Set 9 | garmsar\n",
      "Processing Record 31 of Set 9 | jieshi\n",
      "Processing Record 32 of Set 9 | dunedin\n",
      "City not found. Skipping...\n",
      "Processing Record 33 of Set 9 | nouadhibou\n",
      "Processing Record 34 of Set 9 | noumea\n",
      "Processing Record 35 of Set 9 | belgrade\n",
      "Processing Record 36 of Set 9 | farrukhnagar\n",
      "Processing Record 37 of Set 9 | bar harbor\n",
      "Processing Record 38 of Set 9 | ciudad real\n",
      "Processing Record 39 of Set 9 | odweyne\n",
      "Processing Record 40 of Set 9 | manicaragua\n",
      "Processing Record 41 of Set 9 | inuvik\n",
      "Processing Record 42 of Set 9 | walla walla\n",
      "Processing Record 43 of Set 9 | lucapa\n",
      "City not found. Skipping...\n",
      "Processing Record 44 of Set 9 | saint-georges\n",
      "City not found. Skipping...\n",
      "Processing Record 45 of Set 9 | russell\n",
      "Processing Record 46 of Set 9 | zambrow\n",
      "Processing Record 47 of Set 9 | zhanakorgan\n",
      "Processing Record 48 of Set 9 | kanlagay\n",
      "City not found. Skipping...\n",
      "City not found. Skipping...\n",
      "Processing Record 49 of Set 9 | ormara\n",
      "Processing Record 50 of Set 9 | ahuimanu\n",
      "Processing Record 1 of Set 10 | poya\n",
      "Processing Record 2 of Set 10 | trinidad\n",
      "Processing Record 3 of Set 10 | mamallapuram\n",
      "Processing Record 4 of Set 10 | labe\n",
      "Processing Record 5 of Set 10 | cahors\n",
      "Processing Record 6 of Set 10 | sandnessjoen\n",
      "Processing Record 7 of Set 10 | diamantino\n",
      "Processing Record 8 of Set 10 | gat\n",
      "Processing Record 9 of Set 10 | rio gallegos\n",
      "Processing Record 10 of Set 10 | narasannapeta\n",
      "Processing Record 11 of Set 10 | koroni\n",
      "Processing Record 12 of Set 10 | aklavik\n",
      "Processing Record 13 of Set 10 | awjilah\n",
      "Processing Record 14 of Set 10 | mackay\n",
      "Processing Record 15 of Set 10 | vao\n",
      "Processing Record 16 of Set 10 | astoria\n",
      "Processing Record 17 of Set 10 | ulaanbaatar\n",
      "Processing Record 18 of Set 10 | ninotsminda\n",
      "Processing Record 19 of Set 10 | mangai\n",
      "Processing Record 20 of Set 10 | alindao\n",
      "Processing Record 21 of Set 10 | namibe\n",
      "Processing Record 22 of Set 10 | katsuura\n",
      "Processing Record 23 of Set 10 | hirado\n",
      "Processing Record 24 of Set 10 | jacmel\n",
      "Processing Record 25 of Set 10 | ayolas\n",
      "Processing Record 26 of Set 10 | fortuna\n",
      "Processing Record 27 of Set 10 | kloulklubed\n",
      "Processing Record 28 of Set 10 | owerri\n",
      "Processing Record 29 of Set 10 | norrkoping\n",
      "Processing Record 30 of Set 10 | naze\n",
      "Processing Record 31 of Set 10 | rocha\n",
      "City not found. Skipping...\n",
      "Processing Record 32 of Set 10 | tocopilla\n",
      "Processing Record 33 of Set 10 | saint george\n",
      "Processing Record 34 of Set 10 | yerbogachen\n",
      "Processing Record 35 of Set 10 | riosucio\n",
      "Processing Record 36 of Set 10 | tura\n",
      "Processing Record 37 of Set 10 | pinega\n",
      "Processing Record 38 of Set 10 | anori\n",
      "City not found. Skipping...\n",
      "Processing Record 39 of Set 10 | tari\n",
      "Processing Record 40 of Set 10 | hovd\n",
      "Processing Record 41 of Set 10 | inta\n",
      "Processing Record 42 of Set 10 | luanda\n",
      "Processing Record 43 of Set 10 | kota bahru\n",
      "Processing Record 44 of Set 10 | myrtle beach\n",
      "Processing Record 45 of Set 10 | obihiro\n",
      "Processing Record 46 of Set 10 | sungaipenuh\n",
      "Processing Record 47 of Set 10 | sisimiut\n",
      "Processing Record 48 of Set 10 | srednekolymsk\n",
      "Processing Record 49 of Set 10 | bandarbeyla\n",
      "Processing Record 50 of Set 10 | atambua\n",
      "--------------------------------------------------------------        \n",
      "Data Retrieval Complete - 500 records fetched        \n",
      "--------------------------------------------------------------\n"
     ]
    }
   ],
   "source": [
    "# initialise set and record number\n",
    "set_no = 1\n",
    "record = 0\n",
    "\n",
    "# initialise URL\n",
    "url = f\"http://api.openweathermap.org/data/2.5/weather?appid={api_keys.weather_api_key}&units=imperial&q=\"\n",
    "\n",
    "# maximum number of records requested excluding missing cities\n",
    "maxData = 500\n",
    " # number of record per minute\n",
    "recsPerMin=50\n",
    "# successful request counter\n",
    "recs_fetched = 0\n",
    "# proc counter\n",
    "prc_cntr = 0\n",
    "\n",
    "# initialise city data directory\n",
    "city_data = {\"City\":[],\n",
    "             \"Lat\":[],\n",
    "             \"Lng\":[],\n",
    "             \"Max Temp\":[],\n",
    "             \"Humidity\":[],\n",
    "             \"Cloudiness\":[],\n",
    "             \"Wind Speed\":[],\n",
    "             \"Country\":[],\n",
    "             \"Date\":[]}\n",
    "\n",
    "print(\"Beginning Data Retrieval \\n--------------------------------------------------------------\")\n",
    "    \n",
    "for cty_name in city_list:\n",
    "    # increment for each call even if city does not exist\n",
    "    response = requests.get(f\"{url}{cty_name}\").json()\n",
    "\n",
    "    # maximum of 60 calls per minute, pause for 1 min after 50 calls\n",
    "    # separate call counter from record counter to prevent exceeding in case missing city > 10\n",
    "    if prc_cntr == recsPerMin:\n",
    "        time.sleep(60)\n",
    "        prc_cntr = 0\n",
    "        \n",
    "    if record == 50:\n",
    "        #reset record number indicator and increment set number\n",
    "        record = 0\n",
    "        set_no += 1\n",
    "\n",
    "    # if city exists online, process and increment counter\n",
    "    # using if/else instead of try/catch since try catch will mess up with the counters\n",
    "    if response['cod'] != '404':\n",
    "        recs_fetched += 1\n",
    "        record += 1\n",
    "        print(f\"Processing Record {record} of Set {set_no} | {cty_name}\")\n",
    "        \n",
    "        # load data to lists\n",
    "        city_data[\"City\"].append(response[\"name\"])\n",
    "        city_data[\"Lat\"].append(response[\"coord\"][\"lat\"])\n",
    "        city_data[\"Lng\"].append(response[\"coord\"][\"lon\"])\n",
    "        city_data[\"Max Temp\"].append(response[\"main\"][\"temp_max\"])\n",
    "        city_data[\"Humidity\"].append(response[\"main\"][\"humidity\"])\n",
    "        city_data[\"Cloudiness\"].append(response[\"clouds\"][\"all\"])\n",
    "        city_data[\"Wind Speed\"].append(response[\"wind\"][\"speed\"])\n",
    "        city_data[\"Country\"].append(response[\"sys\"][\"country\"])\n",
    "        city_data[\"Date\"].append(response[\"dt\"])\n",
    "    else:\n",
    "        # have noticed that the variable values do not reflect if the exception is fired\n",
    "        # this is to ensure that only 50 records are processed per minute regardless\n",
    "        # if the record exists or not\n",
    "        prc_cntr += 1 \n",
    "        print(f\"City not found. Skipping...\")\n",
    "        \n",
    "    prc_cntr += 1\n",
    "    \n",
    "    # if max data is reached, break the loop\n",
    "    if recs_fetched >= maxData:\n",
    "        break\n",
    "\n",
    "print (f\"-------------------------------------------------------------- \\\n",
    "       \\nData Retrieval Complete - {recs_fetched} records fetched \\\n",
    "       \\n--------------------------------------------------------------\")"
   ]
  },
  {
   "cell_type": "markdown",
   "metadata": {},
   "source": [
    "### Convert Raw Data to DataFrame\n",
    "* Export the city data into a .csv.\n",
    "* Display the DataFrame"
   ]
  },
  {
   "cell_type": "code",
   "execution_count": 18,
   "metadata": {},
   "outputs": [
    {
     "data": {
      "text/html": [
       "<div>\n",
       "<style scoped>\n",
       "    .dataframe tbody tr th:only-of-type {\n",
       "        vertical-align: middle;\n",
       "    }\n",
       "\n",
       "    .dataframe tbody tr th {\n",
       "        vertical-align: top;\n",
       "    }\n",
       "\n",
       "    .dataframe thead th {\n",
       "        text-align: right;\n",
       "    }\n",
       "</style>\n",
       "<table border=\"1\" class=\"dataframe\">\n",
       "  <thead>\n",
       "    <tr style=\"text-align: right;\">\n",
       "      <th></th>\n",
       "      <th>City</th>\n",
       "      <th>Lat</th>\n",
       "      <th>Lng</th>\n",
       "      <th>Max Temp</th>\n",
       "      <th>Humidity</th>\n",
       "      <th>Cloudiness</th>\n",
       "      <th>Wind Speed</th>\n",
       "      <th>Country</th>\n",
       "      <th>Date</th>\n",
       "    </tr>\n",
       "  </thead>\n",
       "  <tbody>\n",
       "    <tr>\n",
       "      <th>0</th>\n",
       "      <td>San Quintín</td>\n",
       "      <td>30.4833</td>\n",
       "      <td>-115.9500</td>\n",
       "      <td>53.35</td>\n",
       "      <td>79</td>\n",
       "      <td>0</td>\n",
       "      <td>3.78</td>\n",
       "      <td>MX</td>\n",
       "      <td>1610200143</td>\n",
       "    </tr>\n",
       "    <tr>\n",
       "      <th>1</th>\n",
       "      <td>Nikolskoye</td>\n",
       "      <td>59.7035</td>\n",
       "      <td>30.7861</td>\n",
       "      <td>12.00</td>\n",
       "      <td>85</td>\n",
       "      <td>40</td>\n",
       "      <td>2.24</td>\n",
       "      <td>RU</td>\n",
       "      <td>1610200144</td>\n",
       "    </tr>\n",
       "    <tr>\n",
       "      <th>2</th>\n",
       "      <td>Port Alfred</td>\n",
       "      <td>-33.5906</td>\n",
       "      <td>26.8910</td>\n",
       "      <td>81.00</td>\n",
       "      <td>79</td>\n",
       "      <td>0</td>\n",
       "      <td>7.99</td>\n",
       "      <td>ZA</td>\n",
       "      <td>1610200145</td>\n",
       "    </tr>\n",
       "    <tr>\n",
       "      <th>3</th>\n",
       "      <td>Touros</td>\n",
       "      <td>-5.1989</td>\n",
       "      <td>-35.4608</td>\n",
       "      <td>86.00</td>\n",
       "      <td>58</td>\n",
       "      <td>20</td>\n",
       "      <td>16.11</td>\n",
       "      <td>BR</td>\n",
       "      <td>1610200252</td>\n",
       "    </tr>\n",
       "    <tr>\n",
       "      <th>4</th>\n",
       "      <td>Charters Towers</td>\n",
       "      <td>-20.1000</td>\n",
       "      <td>146.2667</td>\n",
       "      <td>73.85</td>\n",
       "      <td>89</td>\n",
       "      <td>97</td>\n",
       "      <td>12.28</td>\n",
       "      <td>AU</td>\n",
       "      <td>1610200252</td>\n",
       "    </tr>\n",
       "  </tbody>\n",
       "</table>\n",
       "</div>"
      ],
      "text/plain": [
       "              City      Lat       Lng  Max Temp  Humidity  Cloudiness  \\\n",
       "0      San Quintín  30.4833 -115.9500     53.35        79           0   \n",
       "1       Nikolskoye  59.7035   30.7861     12.00        85          40   \n",
       "2      Port Alfred -33.5906   26.8910     81.00        79           0   \n",
       "3           Touros  -5.1989  -35.4608     86.00        58          20   \n",
       "4  Charters Towers -20.1000  146.2667     73.85        89          97   \n",
       "\n",
       "   Wind Speed Country        Date  \n",
       "0        3.78      MX  1610200143  \n",
       "1        2.24      RU  1610200144  \n",
       "2        7.99      ZA  1610200145  \n",
       "3       16.11      BR  1610200252  \n",
       "4       12.28      AU  1610200252  "
      ]
     },
     "execution_count": 18,
     "metadata": {},
     "output_type": "execute_result"
    }
   ],
   "source": [
    "weather_df = pd.DataFrame(city_data)\n",
    "weather_df.to_csv(\"../output_data/cities.csv\", index=False, header=True)\n",
    "weather_df.head()"
   ]
  },
  {
   "cell_type": "markdown",
   "metadata": {},
   "source": [
    "## Inspect the data and remove the cities where the humidity > 100%.\n",
    "----\n",
    "Skip this step if there are no cities that have humidity > 100%. "
   ]
  },
  {
   "cell_type": "code",
   "execution_count": 19,
   "metadata": {
    "scrolled": true
   },
   "outputs": [
    {
     "data": {
      "text/html": [
       "<div>\n",
       "<style scoped>\n",
       "    .dataframe tbody tr th:only-of-type {\n",
       "        vertical-align: middle;\n",
       "    }\n",
       "\n",
       "    .dataframe tbody tr th {\n",
       "        vertical-align: top;\n",
       "    }\n",
       "\n",
       "    .dataframe thead th {\n",
       "        text-align: right;\n",
       "    }\n",
       "</style>\n",
       "<table border=\"1\" class=\"dataframe\">\n",
       "  <thead>\n",
       "    <tr style=\"text-align: right;\">\n",
       "      <th></th>\n",
       "      <th>Lat</th>\n",
       "      <th>Lng</th>\n",
       "      <th>Max Temp</th>\n",
       "      <th>Humidity</th>\n",
       "      <th>Cloudiness</th>\n",
       "      <th>Wind Speed</th>\n",
       "      <th>Date</th>\n",
       "    </tr>\n",
       "  </thead>\n",
       "  <tbody>\n",
       "    <tr>\n",
       "      <th>count</th>\n",
       "      <td>500.000000</td>\n",
       "      <td>500.000000</td>\n",
       "      <td>500.000000</td>\n",
       "      <td>500.000000</td>\n",
       "      <td>500.000000</td>\n",
       "      <td>500.000000</td>\n",
       "      <td>5.000000e+02</td>\n",
       "    </tr>\n",
       "    <tr>\n",
       "      <th>mean</th>\n",
       "      <td>18.864233</td>\n",
       "      <td>15.340219</td>\n",
       "      <td>51.216460</td>\n",
       "      <td>71.520000</td>\n",
       "      <td>53.440000</td>\n",
       "      <td>8.413460</td>\n",
       "      <td>1.610200e+09</td>\n",
       "    </tr>\n",
       "    <tr>\n",
       "      <th>std</th>\n",
       "      <td>34.273811</td>\n",
       "      <td>91.311905</td>\n",
       "      <td>33.253546</td>\n",
       "      <td>20.186148</td>\n",
       "      <td>40.710553</td>\n",
       "      <td>5.999201</td>\n",
       "      <td>1.009643e+02</td>\n",
       "    </tr>\n",
       "    <tr>\n",
       "      <th>min</th>\n",
       "      <td>-54.800000</td>\n",
       "      <td>-179.166700</td>\n",
       "      <td>-31.160000</td>\n",
       "      <td>9.000000</td>\n",
       "      <td>0.000000</td>\n",
       "      <td>0.400000</td>\n",
       "      <td>1.610200e+09</td>\n",
       "    </tr>\n",
       "    <tr>\n",
       "      <th>25%</th>\n",
       "      <td>-9.621350</td>\n",
       "      <td>-67.520825</td>\n",
       "      <td>28.400000</td>\n",
       "      <td>62.000000</td>\n",
       "      <td>3.000000</td>\n",
       "      <td>4.030000</td>\n",
       "      <td>1.610200e+09</td>\n",
       "    </tr>\n",
       "    <tr>\n",
       "      <th>50%</th>\n",
       "      <td>21.023850</td>\n",
       "      <td>19.786800</td>\n",
       "      <td>63.475000</td>\n",
       "      <td>76.000000</td>\n",
       "      <td>72.000000</td>\n",
       "      <td>6.910000</td>\n",
       "      <td>1.610200e+09</td>\n",
       "    </tr>\n",
       "    <tr>\n",
       "      <th>75%</th>\n",
       "      <td>46.941725</td>\n",
       "      <td>92.925000</td>\n",
       "      <td>78.800000</td>\n",
       "      <td>87.000000</td>\n",
       "      <td>94.000000</td>\n",
       "      <td>10.952500</td>\n",
       "      <td>1.610200e+09</td>\n",
       "    </tr>\n",
       "    <tr>\n",
       "      <th>max</th>\n",
       "      <td>78.218600</td>\n",
       "      <td>179.316700</td>\n",
       "      <td>100.470000</td>\n",
       "      <td>100.000000</td>\n",
       "      <td>100.000000</td>\n",
       "      <td>36.820000</td>\n",
       "      <td>1.610200e+09</td>\n",
       "    </tr>\n",
       "  </tbody>\n",
       "</table>\n",
       "</div>"
      ],
      "text/plain": [
       "              Lat         Lng    Max Temp    Humidity  Cloudiness  Wind Speed  \\\n",
       "count  500.000000  500.000000  500.000000  500.000000  500.000000  500.000000   \n",
       "mean    18.864233   15.340219   51.216460   71.520000   53.440000    8.413460   \n",
       "std     34.273811   91.311905   33.253546   20.186148   40.710553    5.999201   \n",
       "min    -54.800000 -179.166700  -31.160000    9.000000    0.000000    0.400000   \n",
       "25%     -9.621350  -67.520825   28.400000   62.000000    3.000000    4.030000   \n",
       "50%     21.023850   19.786800   63.475000   76.000000   72.000000    6.910000   \n",
       "75%     46.941725   92.925000   78.800000   87.000000   94.000000   10.952500   \n",
       "max     78.218600  179.316700  100.470000  100.000000  100.000000   36.820000   \n",
       "\n",
       "               Date  \n",
       "count  5.000000e+02  \n",
       "mean   1.610200e+09  \n",
       "std    1.009643e+02  \n",
       "min    1.610200e+09  \n",
       "25%    1.610200e+09  \n",
       "50%    1.610200e+09  \n",
       "75%    1.610200e+09  \n",
       "max    1.610200e+09  "
      ]
     },
     "execution_count": 19,
     "metadata": {},
     "output_type": "execute_result"
    }
   ],
   "source": [
    "weather_df.describe()"
   ]
  },
  {
   "cell_type": "code",
   "execution_count": 20,
   "metadata": {},
   "outputs": [
    {
     "data": {
      "text/plain": [
       "[]"
      ]
     },
     "execution_count": 20,
     "metadata": {},
     "output_type": "execute_result"
    }
   ],
   "source": [
    "#  Get the indices of cities that have humidity over 100%.\n",
    "# [RS] - I'd prefer to automate the checks :)\n",
    "weather_df_outliers = []\n",
    "if weather_df['Humidity'].max() > 100:\n",
    "    weather_df_outliers = weather_df.loc[weather_df['Humidity'] > 90].index\n",
    "\n",
    "weather_df_outliers"
   ]
  },
  {
   "cell_type": "code",
   "execution_count": 21,
   "metadata": {},
   "outputs": [
    {
     "data": {
      "text/plain": [
       "500"
      ]
     },
     "execution_count": 21,
     "metadata": {},
     "output_type": "execute_result"
    }
   ],
   "source": [
    "# Make a new DataFrame equal to the city data to drop all humidity outliers by index.\n",
    "# Passing \"inplace=False\" will make a copy of the city_data DataFrame, which we call \"clean_city_data\".\n",
    "clean_city_data = weather_df[~weather_df.index.isin(weather_df_outliers)]\n",
    "len(clean_city_data)"
   ]
  },
  {
   "cell_type": "markdown",
   "metadata": {},
   "source": [
    "## Plotting the Data\n",
    "* Use proper labeling of the plots using plot titles (including date of analysis) and axes labels.\n",
    "* Save the plotted figures as .pngs."
   ]
  },
  {
   "cell_type": "markdown",
   "metadata": {},
   "source": [
    "## Latitude vs. Temperature Plot"
   ]
  },
  {
   "cell_type": "markdown",
   "metadata": {},
   "source": [
    "#### OBSERVATIONS:\n",
    "* Considering the data to be concentrated more on Northern Latitude there is a close correlation to drop in temperature as the city moves away from the equator. \n",
    "* Given the results of the sample, if I am to enhance this analysis I'd rather get the positive and negaive latitude values for a single longitude and ensure that both the positive and negative latitude cities have weather data, then I'll do the analysis and plotting from there."
   ]
  },
  {
   "cell_type": "code",
   "execution_count": 108,
   "metadata": {},
   "outputs": [
    {
     "data": {
      "image/png": "[encoded data removed]",
      "text/plain": [
       "<Figure size 432x288 with 1 Axes>"
      ]
     },
     "metadata": {
      "needs_background": "light"
     },
     "output_type": "display_data"
    }
   ],
   "source": [
    "# init axes\n",
    "x_values = clean_city_data['Lat']\n",
    "y_values = clean_city_data['Max Temp'] \n",
    "# create scatter plot\n",
    "plt.scatter(x_values,y_values,edgecolors=\"black\")\n",
    "# add grid\n",
    "plt.grid()\n",
    "# add labels\n",
    "plt.title(f'City Latitude vs. Max Temperature ({datetoday})')\n",
    "plt.xlabel('Latitude')\n",
    "plt.ylabel('Max Temperature(F)')\n",
    "# save figure\n",
    "plt.savefig(f\"../output_data/City Latitude vs. Max Temperature {datefilename}.png\")\n",
    "# print visualisation\n",
    "plt.show()"
   ]
  },
  {
   "cell_type": "markdown",
   "metadata": {},
   "source": [
    "## Latitude vs. Humidity Plot"
   ]
  },
  {
   "cell_type": "markdown",
   "metadata": {},
   "source": [
    "#### OBSERVATIONS:\n",
    "* For this data there seems to be a concentration of high humidity on the northern latitude although there is not much of a correlation with the acquired dataset. It would be interesting to see an equal amount of citis in the >-40 latitude perhaps it could show more corellation. "
   ]
  },
  {
   "cell_type": "code",
   "execution_count": 109,
   "metadata": {},
   "outputs": [
    {
     "data": {
      "image/png": "[encoded data removed]",
      "text/plain": [
       "<Figure size 432x288 with 1 Axes>"
      ]
     },
     "metadata": {
      "needs_background": "light"
     },
     "output_type": "display_data"
    }
   ],
   "source": [
    "# init axes\n",
    "x_values = clean_city_data['Lat']\n",
    "y_values = clean_city_data['Humidity'] \n",
    "# create scatter plot\n",
    "plt.scatter(x_values,y_values,edgecolors=\"black\")\n",
    "# add grid\n",
    "plt.grid()\n",
    "# add labels\n",
    "plt.title(f'City Latitude vs. Humidity ({datetoday})')\n",
    "plt.xlabel('Latitude')\n",
    "plt.ylabel('Humidity(%)')\n",
    "# save figure\n",
    "plt.savefig(f\"../output_data/City Latitude vs. Humidity {datefilename}.png\")\n",
    "# print visualisation\n",
    "plt.show()"
   ]
  },
  {
   "cell_type": "markdown",
   "metadata": {},
   "source": [
    "## Latitude vs. Cloudiness Plot"
   ]
  },
  {
   "cell_type": "markdown",
   "metadata": {},
   "source": [
    "#### OBSERVATIONS:\n",
    "* There seems to be a concentration between 70% to 100% cloudiness but not much correlation, would be interesting to compare data from different days or seasons."
   ]
  },
  {
   "cell_type": "code",
   "execution_count": 110,
   "metadata": {},
   "outputs": [
    {
     "data": {
      "image/png": "[encoded data removed]",
      "text/plain": [
       "<Figure size 432x288 with 1 Axes>"
      ]
     },
     "metadata": {
      "needs_background": "light"
     },
     "output_type": "display_data"
    }
   ],
   "source": [
    "# init axes\n",
    "x_values = clean_city_data['Lat']\n",
    "y_values = clean_city_data['Cloudiness'] \n",
    "# create scatter plot\n",
    "plt.scatter(x_values,y_values,edgecolors=\"black\")\n",
    "# add grid\n",
    "plt.grid()\n",
    "# add labels\n",
    "plt.title(f'City Latitude vs. Clouduness ({datetoday})')\n",
    "plt.xlabel('Latitude')\n",
    "plt.ylabel('Clouduness(%)')\n",
    "# save figure\n",
    "plt.savefig(f\"../output_data/City Latitude vs. Clouduness {datefilename}.png\")\n",
    "# print visualisation\n",
    "plt.show()"
   ]
  },
  {
   "cell_type": "markdown",
   "metadata": {},
   "source": [
    "## Latitude vs. Wind Speed Plot"
   ]
  },
  {
   "cell_type": "markdown",
   "metadata": {},
   "source": [
    "#### OBSERVATIONS:\n",
    "* Again onsidering the data to be concentrated more on Northern Latitude the correlation seepms to be consistent between wind speed and latitude with a high concentration between 0 and 10. One interesting observation in this data is all of the chosen cities seem to have a fair to moderately windy weather and no storms."
   ]
  },
  {
   "cell_type": "code",
   "execution_count": 111,
   "metadata": {},
   "outputs": [
    {
     "data": {
      "image/png": "[encoded data removed]",
      "text/plain": [
       "<Figure size 432x288 with 1 Axes>"
      ]
     },
     "metadata": {
      "needs_background": "light"
     },
     "output_type": "display_data"
    }
   ],
   "source": [
    "# init axes\n",
    "x_values = clean_city_data['Lat']\n",
    "y_values = clean_city_data['Wind Speed'] \n",
    "# create scatter plot\n",
    "plt.scatter(x_values,y_values,edgecolors=\"black\")\n",
    "# add grid\n",
    "plt.grid()\n",
    "# add labels\n",
    "plt.title(f'City Latitude vs. Wind Speed ({datetoday})')\n",
    "plt.xlabel('Latitude')\n",
    "plt.ylabel('Wind Speed(mph)')\n",
    "# save figure\n",
    "plt.savefig(f\"../output_data/City Latitude vs. Wind Speed {datefilename}.png\")\n",
    "# print visualisation\n",
    "plt.show()"
   ]
  },
  {
   "cell_type": "markdown",
   "metadata": {},
   "source": [
    "## Linear Regression"
   ]
  },
  {
   "cell_type": "code",
   "execution_count": null,
   "metadata": {},
   "outputs": [],
   "source": []
  },
  {
   "cell_type": "markdown",
   "metadata": {},
   "source": [
    "####  Northern Hemisphere - Max Temp vs. Latitude Linear Regression"
   ]
  },
  {
   "cell_type": "markdown",
   "metadata": {},
   "source": [
    "#### OBSERVATIONS:\n",
    "* There is a strong negative correlation between northern hemishpere latitude and maximum temperature - maximum temperature drops as the city moves up further from the equator. "
   ]
  },
  {
   "cell_type": "code",
   "execution_count": 50,
   "metadata": {},
   "outputs": [
    {
     "name": "stdout",
     "output_type": "stream",
     "text": [
      "The r-value is -0.8746247660567169\n"
     ]
    },
    {
     "data": {
      "image/png": "[encoded data removed]",
      "text/plain": [
       "<Figure size 432x288 with 1 Axes>"
      ]
     },
     "metadata": {
      "needs_background": "light"
     },
     "output_type": "display_data"
    }
   ],
   "source": [
    "# initialise Axes\n",
    "x_values = clean_city_data.loc[clean_city_data['Lat'] >= 0]['Lat']\n",
    "y_values = clean_city_data.loc[clean_city_data['Lat'] >= 0]['Max Temp']\n",
    "# calculate line variables\n",
    "(slope, intercept, rvalue, pvalue, stderr) = st.linregress(x_values, y_values)\n",
    "# calculate regress values\n",
    "regress_values = x_values * slope + intercept\n",
    "# create scatter plot\n",
    "plt.scatter(x_values,y_values)\n",
    "# add line and equation\n",
    "plt.plot(x_values,regress_values,\"r-\")\n",
    "line_eq = \"y = \" + str(round(slope,2)) + \"x + \" + str(round(intercept,2))\n",
    "plt.annotate(line_eq,(0,-20),fontsize=15,color=\"red\")\n",
    "# create axis labels\n",
    "plt.xlabel('Latitude')\n",
    "plt.ylabel('Max Temp')\n",
    "print(f\"The r-value is {rvalue}\")\n",
    "plt.show()"
   ]
  },
  {
   "cell_type": "markdown",
   "metadata": {},
   "source": [
    "####  Southern Hemisphere - Max Temp vs. Latitude Linear Regression"
   ]
  },
  {
   "cell_type": "markdown",
   "metadata": {},
   "source": [
    "#### OBSERVATIONS:\n",
    "* There is a positive correlation between southern hemishpere latitude and maximum temperature - maximum temperature drops as the city moves closer to the equator."
   ]
  },
  {
   "cell_type": "code",
   "execution_count": 62,
   "metadata": {},
   "outputs": [
    {
     "name": "stdout",
     "output_type": "stream",
     "text": [
      "The r-value is 0.5629158493011578\n"
     ]
    },
    {
     "data": {
      "image/png": "[encoded data removed]",
      "text/plain": [
       "<Figure size 432x288 with 1 Axes>"
      ]
     },
     "metadata": {
      "needs_background": "light"
     },
     "output_type": "display_data"
    }
   ],
   "source": [
    "# initialise Axes\n",
    "x_values = clean_city_data.loc[clean_city_data['Lat'] < 0]['Lat']\n",
    "y_values = clean_city_data.loc[clean_city_data['Lat'] < 0]['Max Temp']\n",
    "# calculate line variables\n",
    "(slope, intercept, rvalue, pvalue, stderr) = st.linregress(x_values, y_values)\n",
    "# calculate regress values\n",
    "regress_values = x_values * slope + intercept\n",
    "# create scatter plot\n",
    "plt.scatter(x_values,y_values)\n",
    "# add line\n",
    "plt.plot(x_values,regress_values,\"r-\")\n",
    "line_eq = \"y = \" + str(round(slope,2)) + \"x + \" + str(round(intercept,2))\n",
    "plt.annotate(line_eq,(-38,45),fontsize=15,color=\"red\")\n",
    "# create axis labels\n",
    "plt.xlabel('Latitude')\n",
    "plt.ylabel('Max Temp')\n",
    "\n",
    "print(f\"The r-value is {rvalue}\")\n",
    "plt.show()"
   ]
  },
  {
   "cell_type": "markdown",
   "metadata": {},
   "source": [
    "####  Northern Hemisphere - Humidity (%) vs. Latitude Linear Regression"
   ]
  },
  {
   "cell_type": "markdown",
   "metadata": {},
   "source": [
    "#### OBSERVATIONS:\n",
    "* There is a weak positive correlation between northern latitude and humidity although on a visual inspection I would say this is more of a zero corellation with concentration of high humidity on cities further north. "
   ]
  },
  {
   "cell_type": "code",
   "execution_count": 66,
   "metadata": {},
   "outputs": [
    {
     "name": "stdout",
     "output_type": "stream",
     "text": [
      "The r-value is 0.3408100359777421\n"
     ]
    },
    {
     "data": {
      "image/png": "[encoded data removed]",
      "text/plain": [
       "<Figure size 432x288 with 1 Axes>"
      ]
     },
     "metadata": {
      "needs_background": "light"
     },
     "output_type": "display_data"
    }
   ],
   "source": [
    "# initialise Axes\n",
    "x_values = clean_city_data.loc[clean_city_data['Lat'] >= 0]['Lat']\n",
    "y_values = clean_city_data.loc[clean_city_data['Lat'] >= 0]['Humidity']\n",
    "# calculate line variables\n",
    "(slope, intercept, rvalue, pvalue, stderr) = st.linregress(x_values, y_values)\n",
    "# calculate regress values\n",
    "regress_values = x_values * slope + intercept\n",
    "# create scatter plot\n",
    "plt.scatter(x_values,y_values)\n",
    "# add line\n",
    "plt.plot(x_values,regress_values,\"r-\")\n",
    "line_eq = \"y = \" + str(round(slope,2)) + \"x + \" + str(round(intercept,2))\n",
    "plt.annotate(line_eq,(40,12),fontsize=15,color=\"red\")\n",
    "# create axis labels\n",
    "plt.xlabel('Latitude')\n",
    "plt.ylabel('Humidity')\n",
    "\n",
    "print(f\"The r-value is {rvalue}\")\n",
    "plt.show()"
   ]
  },
  {
   "cell_type": "markdown",
   "metadata": {},
   "source": [
    "####  Southern Hemisphere - Humidity (%) vs. Latitude Linear Regression"
   ]
  },
  {
   "cell_type": "markdown",
   "metadata": {},
   "source": [
    "#### OBSERVATIONS:\n",
    "* There is a weak positive correlation from southern hemisphere latitude vs humidity."
   ]
  },
  {
   "cell_type": "code",
   "execution_count": 72,
   "metadata": {},
   "outputs": [
    {
     "name": "stdout",
     "output_type": "stream",
     "text": [
      "The r-value is 0.26244612506127635\n"
     ]
    },
    {
     "data": {
      "image/png": "[encoded data removed]",
      "text/plain": [
       "<Figure size 432x288 with 1 Axes>"
      ]
     },
     "metadata": {
      "needs_background": "light"
     },
     "output_type": "display_data"
    }
   ],
   "source": [
    "# initialise Axes\n",
    "x_values = clean_city_data.loc[clean_city_data['Lat'] < 0]['Lat']\n",
    "y_values = clean_city_data.loc[clean_city_data['Lat'] < 0]['Humidity']\n",
    "# calculate line variables\n",
    "(slope, intercept, rvalue, pvalue, stderr) = st.linregress(x_values, y_values)\n",
    "# calculate regress values\n",
    "regress_values = x_values * slope + intercept\n",
    "# create scatter plot\n",
    "plt.scatter(x_values,y_values)\n",
    "# add line\n",
    "plt.plot(x_values,regress_values,\"r-\")\n",
    "line_eq = \"y = \" + str(round(slope,2)) + \"x + \" + str(round(intercept,2))\n",
    "plt.annotate(line_eq,(-55,95),fontsize=15,color=\"red\")\n",
    "# create axis labels\n",
    "plt.xlabel('Latitude')\n",
    "plt.ylabel('Humidity')\n",
    "\n",
    "print(f\"The r-value is {rvalue}\")\n",
    "plt.show()"
   ]
  },
  {
   "cell_type": "markdown",
   "metadata": {},
   "source": [
    "####  Northern Hemisphere - Cloudiness (%) vs. Latitude Linear Regression"
   ]
  },
  {
   "cell_type": "markdown",
   "metadata": {},
   "source": [
    "#### OBSERVATIONS:\n",
    "* There is a moderate positive correlation between cloudiness and latitude in the northern hemisphere. "
   ]
  },
  {
   "cell_type": "code",
   "execution_count": 74,
   "metadata": {},
   "outputs": [
    {
     "name": "stdout",
     "output_type": "stream",
     "text": [
      "The r-value is 0.23438919579195808\n"
     ]
    },
    {
     "data": {
      "image/png": "[encoded data removed]",
      "text/plain": [
       "<Figure size 432x288 with 1 Axes>"
      ]
     },
     "metadata": {
      "needs_background": "light"
     },
     "output_type": "display_data"
    }
   ],
   "source": [
    "# initialise Axes\n",
    "x_values = clean_city_data.loc[clean_city_data['Lat'] >= 0]['Lat']\n",
    "y_values = clean_city_data.loc[clean_city_data['Lat'] >= 0]['Cloudiness']\n",
    "# calculate line variables\n",
    "(slope, intercept, rvalue, pvalue, stderr) = st.linregress(x_values, y_values)\n",
    "# calculate regress values\n",
    "regress_values = x_values * slope + intercept\n",
    "# create scatter plot\n",
    "plt.scatter(x_values,y_values)\n",
    "# add line\n",
    "plt.plot(x_values,regress_values,\"r-\")\n",
    "line_eq = \"y = \" + str(round(slope,2)) + \"x + \" + str(round(intercept,2))\n",
    "plt.annotate(line_eq,(35,25),fontsize=15,color=\"red\")\n",
    "# create axis labels\n",
    "plt.xlabel('Latitude')\n",
    "plt.ylabel('Cloudiness')\n",
    "\n",
    "print(f\"The r-value is {rvalue}\")\n",
    "plt.show()"
   ]
  },
  {
   "cell_type": "markdown",
   "metadata": {},
   "source": [
    "####  Southern Hemisphere - Cloudiness (%) vs. Latitude Linear Regression"
   ]
  },
  {
   "cell_type": "markdown",
   "metadata": {},
   "source": [
    "#### OBSERVATIONS:\n",
    "* There is a strong positive correlation between cloudiness and latitude in the southern hemisphere. "
   ]
  },
  {
   "cell_type": "code",
   "execution_count": 77,
   "metadata": {},
   "outputs": [
    {
     "name": "stdout",
     "output_type": "stream",
     "text": [
      "The r-value is 0.36421224475422104\n"
     ]
    },
    {
     "data": {
      "image/png": "[encoded data removed]",
      "text/plain": [
       "<Figure size 432x288 with 1 Axes>"
      ]
     },
     "metadata": {
      "needs_background": "light"
     },
     "output_type": "display_data"
    }
   ],
   "source": [
    "# initialise Axes\n",
    "x_values = clean_city_data.loc[clean_city_data['Lat'] < 0]['Lat']\n",
    "y_values = clean_city_data.loc[clean_city_data['Lat'] < 0]['Cloudiness']\n",
    "# calculate line variables\n",
    "(slope, intercept, rvalue, pvalue, stderr) = st.linregress(x_values, y_values)\n",
    "# calculate regress values\n",
    "regress_values = x_values * slope + intercept\n",
    "# create scatter plot\n",
    "plt.scatter(x_values,y_values)\n",
    "# add line\n",
    "plt.plot(x_values,regress_values,\"r-\")\n",
    "line_eq = \"y = \" + str(round(slope,2)) + \"x + \" + str(round(intercept,2))\n",
    "plt.annotate(line_eq,(-55,50),fontsize=15,color=\"red\")\n",
    "# create axis labels\n",
    "plt.xlabel('Latitude')\n",
    "plt.ylabel('Cloudiness')\n",
    "\n",
    "print(f\"The r-value is {rvalue}\")\n",
    "plt.show()"
   ]
  },
  {
   "cell_type": "markdown",
   "metadata": {},
   "source": [
    "####  Northern Hemisphere - Wind Speed (mph) vs. Latitude Linear Regression"
   ]
  },
  {
   "cell_type": "markdown",
   "metadata": {},
   "source": [
    "#### OBSERVATIONS:\n",
    "* There is almost no correlation between wind speed and latitude in the northern hemisphere. "
   ]
  },
  {
   "cell_type": "code",
   "execution_count": 79,
   "metadata": {},
   "outputs": [
    {
     "name": "stdout",
     "output_type": "stream",
     "text": [
      "The r-value is -0.034863550638722575\n"
     ]
    },
    {
     "data": {
      "image/png": "[encoded data removed]",
      "text/plain": [
       "<Figure size 432x288 with 1 Axes>"
      ]
     },
     "metadata": {
      "needs_background": "light"
     },
     "output_type": "display_data"
    }
   ],
   "source": [
    "# initialise Axes\n",
    "x_values = clean_city_data.loc[clean_city_data['Lat'] >= 0]['Lat']\n",
    "y_values = clean_city_data.loc[clean_city_data['Lat'] >= 0]['Wind Speed']\n",
    "# calculate line variables\n",
    "(slope, intercept, rvalue, pvalue, stderr) = st.linregress(x_values, y_values)\n",
    "# calculate regress values\n",
    "regress_values = x_values * slope + intercept\n",
    "# create scatter plot\n",
    "plt.scatter(x_values,y_values)\n",
    "# add line\n",
    "plt.plot(x_values,regress_values,\"r-\")\n",
    "line_eq = \"y = \" + str(round(slope,2)) + \"x + \" + str(round(intercept,2))\n",
    "plt.annotate(line_eq,(0,35),fontsize=15,color=\"red\")\n",
    "# create axis labels\n",
    "plt.xlabel('Latitude')\n",
    "plt.ylabel('Wind Speed')\n",
    "\n",
    "print(f\"The r-value is {rvalue}\")\n",
    "plt.show()"
   ]
  },
  {
   "cell_type": "markdown",
   "metadata": {},
   "source": [
    "####  Southern Hemisphere - Wind Speed (mph) vs. Latitude Linear Regression"
   ]
  },
  {
   "cell_type": "markdown",
   "metadata": {},
   "source": [
    "#### OBSERVATIONS:\n",
    "* There is a weak negative correlation between wind speed and latitude in the southern hemisphere. "
   ]
  },
  {
   "cell_type": "code",
   "execution_count": 92,
   "metadata": {},
   "outputs": [
    {
     "name": "stdout",
     "output_type": "stream",
     "text": [
      "The r-value is -0.19955718935696048\n"
     ]
    },
    {
     "data": {
      "image/png": "[encoded data removed]",
      "text/plain": [
       "<Figure size 432x288 with 1 Axes>"
      ]
     },
     "metadata": {
      "needs_background": "light"
     },
     "output_type": "display_data"
    }
   ],
   "source": [
    "# initialise Axes\n",
    "x_values = clean_city_data.loc[clean_city_data['Lat'] < 0]['Lat']\n",
    "y_values = clean_city_data.loc[clean_city_data['Lat'] < 0]['Wind Speed']\n",
    "# calculate line variables\n",
    "(slope, intercept, rvalue, pvalue, stderr) = st.linregress(x_values, y_values)\n",
    "# calculate regress values\n",
    "regress_values = x_values * slope + intercept\n",
    "# create scatter plot\n",
    "plt.scatter(x_values,y_values)\n",
    "# add line\n",
    "plt.plot(x_values,regress_values,\"r-\")\n",
    "line_eq = \"y = \" + str(round(slope,2)) + \"x + \" + str(round(intercept,2))\n",
    "plt.annotate(line_eq,(-55,28),fontsize=15,color=\"red\")\n",
    "# create axis labels\n",
    "plt.xlabel('Latitude')\n",
    "plt.ylabel('Wind Speed')\n",
    "\n",
    "print(f\"The r-value is {rvalue}\")\n",
    "plt.show()"
   ]
  }
 ],
 "metadata": {
  "anaconda-cloud": {},
  "kernel_info": {
   "name": "python3"
  },
  "kernelspec": {
   "display_name": "Python 3",
   "language": "python",
   "name": "python3"
  },
  "language_info": {
   "codemirror_mode": {
    "name": "ipython",
    "version": 3
   },
   "file_extension": ".py",
   "mimetype": "text/x-python",
   "name": "python",
   "nbconvert_exporter": "python",
   "pygments_lexer": "ipython3",
   "version": "3.6.10"
  },
  "latex_envs": {
   "LaTeX_envs_menu_present": true,
   "autoclose": false,
   "autocomplete": true,
   "bibliofile": "biblio.bib",
   "cite_by": "apalike",
   "current_citInitial": 1,
   "eqLabelWithNumbers": true,
   "eqNumInitial": 1,
   "hotkeys": {
    "equation": "Ctrl-E",
    "itemize": "Ctrl-I"
   },
   "labels_anchors": false,
   "latex_user_defs": false,
   "report_style_numbering": false,
   "user_envs_cfg": false
  },
  "nteract": {
   "version": "0.12.3"
  }
 },
 "nbformat": 4,
 "nbformat_minor": 2
}
