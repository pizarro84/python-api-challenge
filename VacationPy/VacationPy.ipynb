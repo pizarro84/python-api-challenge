{
 "cells": [
  {
   "cell_type": "markdown",
   "metadata": {},
   "source": [
    "# VacationPy\n",
    "----\n",
    "\n",
    "#### Note\n",
    "* Keep an eye on your API usage. Use https://developers.google.com/maps/reporting/gmp-reporting as reference for how to monitor your usage and billing.\n",
    "\n",
    "* Instructions have been included for each segment. You do not have to follow them exactly, but they are included to help you think through the steps."
   ]
  },
  {
   "cell_type": "code",
   "execution_count": 1,
   "metadata": {},
   "outputs": [],
   "source": [
    "# Dependencies and Setup\n",
    "import matplotlib.pyplot as plt\n",
    "import pandas as pd\n",
    "import numpy as np\n",
    "import requests\n",
    "import gmaps\n",
    "import os\n",
    "import api_keys\n",
    "\n",
    "# Import API key\n",
    "from api_keys import g_key"
   ]
  },
  {
   "cell_type": "markdown",
   "metadata": {},
   "source": [
    "### Store Part I results into DataFrame\n",
    "* Load the csv exported in Part I to a DataFrame"
   ]
  },
  {
   "cell_type": "code",
   "execution_count": 2,
   "metadata": {},
   "outputs": [
    {
     "data": {
      "text/html": [
       "<div>\n",
       "<style scoped>\n",
       "    .dataframe tbody tr th:only-of-type {\n",
       "        vertical-align: middle;\n",
       "    }\n",
       "\n",
       "    .dataframe tbody tr th {\n",
       "        vertical-align: top;\n",
       "    }\n",
       "\n",
       "    .dataframe thead th {\n",
       "        text-align: right;\n",
       "    }\n",
       "</style>\n",
       "<table border=\"1\" class=\"dataframe\">\n",
       "  <thead>\n",
       "    <tr style=\"text-align: right;\">\n",
       "      <th></th>\n",
       "      <th>City</th>\n",
       "      <th>Lat</th>\n",
       "      <th>Lng</th>\n",
       "      <th>Max Temp</th>\n",
       "      <th>Humidity</th>\n",
       "      <th>Cloudiness</th>\n",
       "      <th>Wind Speed</th>\n",
       "      <th>Country</th>\n",
       "      <th>Date</th>\n",
       "    </tr>\n",
       "  </thead>\n",
       "  <tbody>\n",
       "    <tr>\n",
       "      <th>0</th>\n",
       "      <td>Tuktoyaktuk</td>\n",
       "      <td>69.4541</td>\n",
       "      <td>-133.0374</td>\n",
       "      <td>1.40</td>\n",
       "      <td>85</td>\n",
       "      <td>90</td>\n",
       "      <td>13.80</td>\n",
       "      <td>CA</td>\n",
       "      <td>1610376478</td>\n",
       "    </tr>\n",
       "    <tr>\n",
       "      <th>1</th>\n",
       "      <td>Ploemeur</td>\n",
       "      <td>47.7333</td>\n",
       "      <td>-3.4333</td>\n",
       "      <td>48.99</td>\n",
       "      <td>76</td>\n",
       "      <td>90</td>\n",
       "      <td>5.75</td>\n",
       "      <td>FR</td>\n",
       "      <td>1610376479</td>\n",
       "    </tr>\n",
       "    <tr>\n",
       "      <th>2</th>\n",
       "      <td>Rocha</td>\n",
       "      <td>-34.4833</td>\n",
       "      <td>-54.3333</td>\n",
       "      <td>85.77</td>\n",
       "      <td>52</td>\n",
       "      <td>100</td>\n",
       "      <td>6.82</td>\n",
       "      <td>UY</td>\n",
       "      <td>1610376479</td>\n",
       "    </tr>\n",
       "    <tr>\n",
       "      <th>3</th>\n",
       "      <td>Galle</td>\n",
       "      <td>6.0367</td>\n",
       "      <td>80.2170</td>\n",
       "      <td>77.67</td>\n",
       "      <td>86</td>\n",
       "      <td>99</td>\n",
       "      <td>5.68</td>\n",
       "      <td>LK</td>\n",
       "      <td>1610376449</td>\n",
       "    </tr>\n",
       "    <tr>\n",
       "      <th>4</th>\n",
       "      <td>Bredasdorp</td>\n",
       "      <td>-34.5322</td>\n",
       "      <td>20.0403</td>\n",
       "      <td>75.20</td>\n",
       "      <td>60</td>\n",
       "      <td>97</td>\n",
       "      <td>18.41</td>\n",
       "      <td>ZA</td>\n",
       "      <td>1610376479</td>\n",
       "    </tr>\n",
       "  </tbody>\n",
       "</table>\n",
       "</div>"
      ],
      "text/plain": [
       "          City      Lat       Lng  Max Temp  Humidity  Cloudiness  Wind Speed  \\\n",
       "0  Tuktoyaktuk  69.4541 -133.0374      1.40        85          90       13.80   \n",
       "1     Ploemeur  47.7333   -3.4333     48.99        76          90        5.75   \n",
       "2        Rocha -34.4833  -54.3333     85.77        52         100        6.82   \n",
       "3        Galle   6.0367   80.2170     77.67        86          99        5.68   \n",
       "4   Bredasdorp -34.5322   20.0403     75.20        60          97       18.41   \n",
       "\n",
       "  Country        Date  \n",
       "0      CA  1610376478  \n",
       "1      FR  1610376479  \n",
       "2      UY  1610376479  \n",
       "3      LK  1610376449  \n",
       "4      ZA  1610376479  "
      ]
     },
     "execution_count": 2,
     "metadata": {},
     "output_type": "execute_result"
    }
   ],
   "source": [
    "weather_data_path=\"../output_data/cities.csv\"\n",
    "city_df = pd.read_csv(weather_data_path)\n",
    "city_df.head()"
   ]
  },
  {
   "cell_type": "markdown",
   "metadata": {},
   "source": [
    "### Humidity Heatmap\n",
    "* Configure gmaps.\n",
    "* Use the Lat and Lng as locations and Humidity as the weight.\n",
    "* Add Heatmap layer to map."
   ]
  },
  {
   "cell_type": "code",
   "execution_count": 3,
   "metadata": {},
   "outputs": [],
   "source": [
    "# configure gmaps\n",
    "gmaps.configure(api_key = g_key)\n",
    "\n",
    "# store longitude and Latitude\n",
    "locs = city_df[['Lat','Lng']].astype(float)\n",
    "\n",
    "# store humidity for the weights\n",
    "humidity = city_df['Humidity'].astype(float)"
   ]
  },
  {
   "cell_type": "code",
   "execution_count": 4,
   "metadata": {},
   "outputs": [
    {
     "data": {
      "application/vnd.jupyter.widget-view+json": {
       "model_id": "6a4c049539284f88ac42cc4203dff4de",
       "version_major": 2,
       "version_minor": 0
      },
      "text/plain": [
       "Figure(layout=FigureLayout(border='1px solid black', height='600px', margin='0 auto 0 auto', padding='1px', wi…"
      ]
     },
     "metadata": {},
     "output_type": "display_data"
    }
   ],
   "source": [
    "# format the layout\n",
    "figure_layout = {\n",
    "    'width': '1000px',\n",
    "    'height': '600px',\n",
    "    'border': '1px solid black',\n",
    "    'padding': '1px',\n",
    "    'margin': '0 auto 0 auto'\n",
    "}\n",
    "\n",
    "# Create heatmap layer\n",
    "fig = gmaps.figure(layout = figure_layout)\n",
    "\n",
    "heat_layer = gmaps.heatmap_layer(locs, \n",
    "                              weights = humidity, \n",
    "                              dissipating = False, \n",
    "                              max_intensity = 100, \n",
    "                              point_radius = 3)\n",
    "\n",
    "fig.add_layer(heat_layer)\n",
    "\n",
    "fig"
   ]
  },
  {
   "cell_type": "markdown",
   "metadata": {},
   "source": [
    "### Create new DataFrame fitting weather criteria\n",
    "* Narrow down the cities to fit weather conditions.\n",
    "* Drop any rows will null values."
   ]
  },
  {
   "cell_type": "code",
   "execution_count": 9,
   "metadata": {},
   "outputs": [
    {
     "data": {
      "text/html": [
       "<div>\n",
       "<style scoped>\n",
       "    .dataframe tbody tr th:only-of-type {\n",
       "        vertical-align: middle;\n",
       "    }\n",
       "\n",
       "    .dataframe tbody tr th {\n",
       "        vertical-align: top;\n",
       "    }\n",
       "\n",
       "    .dataframe thead th {\n",
       "        text-align: right;\n",
       "    }\n",
       "</style>\n",
       "<table border=\"1\" class=\"dataframe\">\n",
       "  <thead>\n",
       "    <tr style=\"text-align: right;\">\n",
       "      <th></th>\n",
       "      <th>City</th>\n",
       "      <th>Lat</th>\n",
       "      <th>Lng</th>\n",
       "      <th>Max Temp</th>\n",
       "      <th>Humidity</th>\n",
       "      <th>Cloudiness</th>\n",
       "      <th>Wind Speed</th>\n",
       "      <th>Country</th>\n",
       "      <th>Date</th>\n",
       "    </tr>\n",
       "  </thead>\n",
       "  <tbody>\n",
       "    <tr>\n",
       "      <th>36</th>\n",
       "      <td>Nelson Bay</td>\n",
       "      <td>-32.7167</td>\n",
       "      <td>152.1500</td>\n",
       "      <td>71.01</td>\n",
       "      <td>73</td>\n",
       "      <td>0</td>\n",
       "      <td>9.22</td>\n",
       "      <td>AU</td>\n",
       "      <td>1610376487</td>\n",
       "    </tr>\n",
       "    <tr>\n",
       "      <th>72</th>\n",
       "      <td>Akola</td>\n",
       "      <td>20.7333</td>\n",
       "      <td>77.0000</td>\n",
       "      <td>77.86</td>\n",
       "      <td>34</td>\n",
       "      <td>0</td>\n",
       "      <td>5.06</td>\n",
       "      <td>IN</td>\n",
       "      <td>1610376486</td>\n",
       "    </tr>\n",
       "    <tr>\n",
       "      <th>123</th>\n",
       "      <td>Beni Suef</td>\n",
       "      <td>29.0731</td>\n",
       "      <td>31.0979</td>\n",
       "      <td>72.57</td>\n",
       "      <td>25</td>\n",
       "      <td>0</td>\n",
       "      <td>6.42</td>\n",
       "      <td>EG</td>\n",
       "      <td>1610376690</td>\n",
       "    </tr>\n",
       "    <tr>\n",
       "      <th>209</th>\n",
       "      <td>Salalah</td>\n",
       "      <td>17.0151</td>\n",
       "      <td>54.0924</td>\n",
       "      <td>75.20</td>\n",
       "      <td>35</td>\n",
       "      <td>0</td>\n",
       "      <td>6.91</td>\n",
       "      <td>OM</td>\n",
       "      <td>1610376828</td>\n",
       "    </tr>\n",
       "    <tr>\n",
       "      <th>405</th>\n",
       "      <td>Craigieburn</td>\n",
       "      <td>-37.6000</td>\n",
       "      <td>144.9500</td>\n",
       "      <td>73.99</td>\n",
       "      <td>60</td>\n",
       "      <td>0</td>\n",
       "      <td>8.05</td>\n",
       "      <td>AU</td>\n",
       "      <td>1610377114</td>\n",
       "    </tr>\n",
       "  </tbody>\n",
       "</table>\n",
       "</div>"
      ],
      "text/plain": [
       "            City      Lat       Lng  Max Temp  Humidity  Cloudiness  \\\n",
       "36    Nelson Bay -32.7167  152.1500     71.01        73           0   \n",
       "72         Akola  20.7333   77.0000     77.86        34           0   \n",
       "123    Beni Suef  29.0731   31.0979     72.57        25           0   \n",
       "209      Salalah  17.0151   54.0924     75.20        35           0   \n",
       "405  Craigieburn -37.6000  144.9500     73.99        60           0   \n",
       "\n",
       "     Wind Speed Country        Date  \n",
       "36         9.22      AU  1610376487  \n",
       "72         5.06      IN  1610376486  \n",
       "123        6.42      EG  1610376690  \n",
       "209        6.91      OM  1610376828  \n",
       "405        8.05      AU  1610377114  "
      ]
     },
     "execution_count": 9,
     "metadata": {},
     "output_type": "execute_result"
    }
   ],
   "source": [
    "# New data frame with the criteria\n",
    "city_df_filter = city_df.loc[(city_df['Max Temp'] >= 70) \n",
    "                             & (city_df['Max Temp'] < 80)\n",
    "                             & (city_df['Wind Speed'] < 10)\n",
    "                             & (city_df['Cloudiness'] == 0)]\n",
    "city_df_filter.head()"
   ]
  },
  {
   "cell_type": "markdown",
   "metadata": {},
   "source": [
    "### Hotel Map\n",
    "* Store into variable named `hotel_df`.\n",
    "* Add a \"Hotel Name\" column to the DataFrame.\n",
    "* Set parameters to search for hotels with 5000 meters.\n",
    "* Hit the Google Places API for each city's coordinates.\n",
    "* Store the first Hotel result into the DataFrame.\n",
    "* Plot markers on top of the heatmap."
   ]
  },
  {
   "cell_type": "code",
   "execution_count": 6,
   "metadata": {},
   "outputs": [
    {
     "name": "stdout",
     "output_type": "stream",
     "text": [
      "Closest hotel is Amarna Luxury Beach Resort - Guest Only.\n",
      "------------\n",
      "Closest hotel is Hotel Jasnagra.\n",
      "------------\n",
      "Closest hotel is Tolip Inn Beni Suef.\n",
      "------------\n",
      "Closest hotel is InterCityHotel Salalah.\n",
      "------------\n",
      "Missing field/result... skipping.\n",
      "------------\n"
     ]
    }
   ],
   "source": [
    "# copy the filtered DF\n",
    "hotel_df = city_df_filter.copy()\n",
    "hotel_df[\"Hotel Name\"]=\"\"\n",
    "city_limit = 10\n",
    "\n",
    "# find the closest hotel of each type to coordinates\n",
    "\n",
    "base_url = \"https://maps.googleapis.com/maps/api/place/nearbysearch/json\"\n",
    "results = \"\"\n",
    "# use iterrows to iterate through pandas dataframe\n",
    "for index, row in hotel_df.iterrows():\n",
    "\n",
    "    params = {\n",
    "    \"radius\": 5000, # radius\n",
    "    \"location\": f\"{row['Lat']},{row['Lng']}\",\n",
    "    \"type\": \"lodging\",\n",
    "    \"keyword\": \"hotel\",\n",
    "    \"key\": g_key}\n",
    "\n",
    "    # assemble url and make API request\n",
    "    response = requests.get(base_url, params=params).json()\n",
    "    \n",
    "    # extract results\n",
    "    results = response['results']\n",
    "    \n",
    "    try:\n",
    "        print(f\"Closest hotel is {results[0]['name']}.\")\n",
    "        # get hotel name and replace the coordinates with actual hotel coordinates\n",
    "        hotel_df.loc[index, 'Hotel Name'] = results[0]['name']\n",
    "        hotel_df.loc[index, 'Lat'] = results[0]['geometry']['location']['lat']\n",
    "        hotel_df.loc[index, 'Lng'] = results[0]['geometry']['location']['lng']\n",
    "        \n",
    "    except (KeyError, IndexError):\n",
    "        print(\"Missing field/result... skipping.\")\n",
    "        \n",
    "    print(\"------------\")\n",
    "\n",
    "# remove missing hotel names\n",
    "hotel_df['Hotel Name'].replace('', np.nan, inplace=True)\n",
    "hotel_df.dropna(inplace=True)\n",
    "\n",
    "# apply city count limit\n",
    "hotel_df = hotel_df.head(city_limit)"
   ]
  },
  {
   "cell_type": "code",
   "execution_count": 7,
   "metadata": {},
   "outputs": [],
   "source": [
    "# NOTE: Do not change any of the code in this cell\n",
    "\n",
    "# Using the template add the hotel marks to the heatmap\n",
    "info_box_template = \"\"\"\n",
    "<dl>\n",
    "<dt>Name</dt><dd>{Hotel Name}</dd>\n",
    "<dt>City</dt><dd>{City}</dd>\n",
    "<dt>Country</dt><dd>{Country}</dd>\n",
    "</dl>\n",
    "\"\"\"\n",
    "# Store the DataFrame Row\n",
    "# NOTE: be sure to update with your DataFrame name\n",
    "hotel_info = [info_box_template.format(**row) for index, row in hotel_df.iterrows()]\n",
    "locations = hotel_df[[\"Lat\", \"Lng\"]]"
   ]
  },
  {
   "cell_type": "code",
   "execution_count": 8,
   "metadata": {},
   "outputs": [
    {
     "data": {
      "application/vnd.jupyter.widget-view+json": {
       "model_id": "79e2f3f10d4f4bceab4222531572ec68",
       "version_major": 2,
       "version_minor": 0
      },
      "text/plain": [
       "Figure(layout=FigureLayout(border='1px solid black', height='600px', margin='0 auto 0 auto', padding='1px', wi…"
      ]
     },
     "metadata": {},
     "output_type": "display_data"
    }
   ],
   "source": [
    "# Add marker layer ontop of heat map\n",
    "hotel_layer = gmaps.marker_layer(\n",
    "    locations, info_box_content = hotel_info)\n",
    "\n",
    "# Display figure\n",
    "fig = gmaps.figure(layout = figure_layout)\n",
    "fig.add_layer(heat_layer)\n",
    "fig.add_layer(hotel_layer)\n",
    "\n",
    "fig"
   ]
  }
 ],
 "metadata": {
  "kernelspec": {
   "display_name": "Python 3",
   "language": "python",
   "name": "python3"
  },
  "language_info": {
   "codemirror_mode": {
    "name": "ipython",
    "version": 3
   },
   "file_extension": ".py",
   "mimetype": "text/x-python",
   "name": "python",
   "nbconvert_exporter": "python",
   "pygments_lexer": "ipython3",
   "version": "3.6.10"
  },
  "latex_envs": {
   "LaTeX_envs_menu_present": true,
   "autoclose": false,
   "autocomplete": true,
   "bibliofile": "biblio.bib",
   "cite_by": "apalike",
   "current_citInitial": 1,
   "eqLabelWithNumbers": true,
   "eqNumInitial": 1,
   "hotkeys": {
    "equation": "Ctrl-E",
    "itemize": "Ctrl-I"
   },
   "labels_anchors": false,
   "latex_user_defs": false,
   "report_style_numbering": false,
   "user_envs_cfg": false
  }
 },
 "nbformat": 4,
 "nbformat_minor": 4
}
