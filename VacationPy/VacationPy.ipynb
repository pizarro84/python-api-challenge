{
 "cells": [
  {
   "cell_type": "markdown",
   "metadata": {},
   "source": [
    "# VacationPy\n",
    "----\n",
    "\n",
    "#### Note\n",
    "* Keep an eye on your API usage. Use https://developers.google.com/maps/reporting/gmp-reporting as reference for how to monitor your usage and billing.\n",
    "\n",
    "* Instructions have been included for each segment. You do not have to follow them exactly, but they are included to help you think through the steps."
   ]
  },
  {
   "cell_type": "code",
   "execution_count": 1,
   "metadata": {},
   "outputs": [],
   "source": [
    "# Dependencies and Setup\n",
    "import matplotlib.pyplot as plt\n",
    "import pandas as pd\n",
    "import numpy as np\n",
    "import requests\n",
    "import gmaps\n",
    "import os\n",
    "import api_keys\n",
    "\n",
    "# Import API key\n",
    "from api_keys import g_key"
   ]
  },
  {
   "cell_type": "markdown",
   "metadata": {},
   "source": [
    "### Store Part I results into DataFrame\n",
    "* Load the csv exported in Part I to a DataFrame"
   ]
  },
  {
   "cell_type": "code",
   "execution_count": 2,
   "metadata": {},
   "outputs": [
    {
     "data": {
      "text/html": [
       "<div>\n",
       "<style scoped>\n",
       "    .dataframe tbody tr th:only-of-type {\n",
       "        vertical-align: middle;\n",
       "    }\n",
       "\n",
       "    .dataframe tbody tr th {\n",
       "        vertical-align: top;\n",
       "    }\n",
       "\n",
       "    .dataframe thead th {\n",
       "        text-align: right;\n",
       "    }\n",
       "</style>\n",
       "<table border=\"1\" class=\"dataframe\">\n",
       "  <thead>\n",
       "    <tr style=\"text-align: right;\">\n",
       "      <th></th>\n",
       "      <th>City</th>\n",
       "      <th>Lat</th>\n",
       "      <th>Lng</th>\n",
       "      <th>Max Temp</th>\n",
       "      <th>Humidity</th>\n",
       "      <th>Cloudiness</th>\n",
       "      <th>Wind Speed</th>\n",
       "      <th>Country</th>\n",
       "      <th>Date</th>\n",
       "    </tr>\n",
       "  </thead>\n",
       "  <tbody>\n",
       "    <tr>\n",
       "      <th>0</th>\n",
       "      <td>Olinda</td>\n",
       "      <td>-8.0089</td>\n",
       "      <td>-34.8553</td>\n",
       "      <td>80.60</td>\n",
       "      <td>65</td>\n",
       "      <td>75</td>\n",
       "      <td>9.22</td>\n",
       "      <td>BR</td>\n",
       "      <td>1610665563</td>\n",
       "    </tr>\n",
       "    <tr>\n",
       "      <th>1</th>\n",
       "      <td>Talaya</td>\n",
       "      <td>61.3833</td>\n",
       "      <td>152.7500</td>\n",
       "      <td>-38.15</td>\n",
       "      <td>79</td>\n",
       "      <td>100</td>\n",
       "      <td>0.63</td>\n",
       "      <td>RU</td>\n",
       "      <td>1610665563</td>\n",
       "    </tr>\n",
       "    <tr>\n",
       "      <th>2</th>\n",
       "      <td>Iqaluit</td>\n",
       "      <td>63.7506</td>\n",
       "      <td>-68.5145</td>\n",
       "      <td>-13.00</td>\n",
       "      <td>77</td>\n",
       "      <td>20</td>\n",
       "      <td>5.75</td>\n",
       "      <td>CA</td>\n",
       "      <td>1610665564</td>\n",
       "    </tr>\n",
       "    <tr>\n",
       "      <th>3</th>\n",
       "      <td>Ushuaia</td>\n",
       "      <td>-54.8000</td>\n",
       "      <td>-68.3000</td>\n",
       "      <td>53.60</td>\n",
       "      <td>58</td>\n",
       "      <td>20</td>\n",
       "      <td>10.36</td>\n",
       "      <td>AR</td>\n",
       "      <td>1610665475</td>\n",
       "    </tr>\n",
       "    <tr>\n",
       "      <th>4</th>\n",
       "      <td>San Quintín</td>\n",
       "      <td>30.4833</td>\n",
       "      <td>-115.9500</td>\n",
       "      <td>69.69</td>\n",
       "      <td>34</td>\n",
       "      <td>0</td>\n",
       "      <td>6.55</td>\n",
       "      <td>MX</td>\n",
       "      <td>1610665564</td>\n",
       "    </tr>\n",
       "  </tbody>\n",
       "</table>\n",
       "</div>"
      ],
      "text/plain": [
       "          City      Lat       Lng  Max Temp  Humidity  Cloudiness  Wind Speed  \\\n",
       "0       Olinda  -8.0089  -34.8553     80.60        65          75        9.22   \n",
       "1       Talaya  61.3833  152.7500    -38.15        79         100        0.63   \n",
       "2      Iqaluit  63.7506  -68.5145    -13.00        77          20        5.75   \n",
       "3      Ushuaia -54.8000  -68.3000     53.60        58          20       10.36   \n",
       "4  San Quintín  30.4833 -115.9500     69.69        34           0        6.55   \n",
       "\n",
       "  Country        Date  \n",
       "0      BR  1610665563  \n",
       "1      RU  1610665563  \n",
       "2      CA  1610665564  \n",
       "3      AR  1610665475  \n",
       "4      MX  1610665564  "
      ]
     },
     "execution_count": 2,
     "metadata": {},
     "output_type": "execute_result"
    }
   ],
   "source": [
    "weather_data_path=\"../output_data/cities.csv\"\n",
    "city_df = pd.read_csv(weather_data_path)\n",
    "city_df.head()"
   ]
  },
  {
   "cell_type": "markdown",
   "metadata": {},
   "source": [
    "### Humidity Heatmap\n",
    "* Configure gmaps.\n",
    "* Use the Lat and Lng as locations and Humidity as the weight.\n",
    "* Add Heatmap layer to map."
   ]
  },
  {
   "cell_type": "code",
   "execution_count": 3,
   "metadata": {},
   "outputs": [],
   "source": [
    "# configure gmaps\n",
    "gmaps.configure(api_key = g_key)\n",
    "\n",
    "# store longitude and Latitude\n",
    "locs = city_df[['Lat','Lng']].astype(float)\n",
    "\n",
    "# store humidity for the weights\n",
    "humidity = city_df['Humidity'].astype(float)"
   ]
  },
  {
   "cell_type": "code",
   "execution_count": 9,
   "metadata": {},
   "outputs": [
    {
     "data": {
      "application/vnd.jupyter.widget-view+json": {
       "model_id": "9652c7f404e64ed3b728f9c98711dfd0",
       "version_major": 2,
       "version_minor": 0
      },
      "text/plain": [
       "Figure(layout=FigureLayout(border='1px solid black', height='600px', margin='0 auto 0 auto', padding='1px', wi…"
      ]
     },
     "metadata": {},
     "output_type": "display_data"
    }
   ],
   "source": [
    "# format the layout\n",
    "figure_layout = {\n",
    "    'width': '1000px',\n",
    "    'height': '600px',\n",
    "    'border': '1px solid black',\n",
    "    'padding': '1px',\n",
    "    'margin': '0 auto 0 auto'\n",
    "}\n",
    "\n",
    "# Create heatmap layer\n",
    "fig = gmaps.figure(layout = figure_layout)\n",
    "\n",
    "heat_layer = gmaps.heatmap_layer(locs, \n",
    "                              weights = humidity, \n",
    "                              dissipating = False, \n",
    "                              max_intensity = 100, \n",
    "                              point_radius = 3)\n",
    "\n",
    "fig.add_layer(heat_layer)\n",
    "\n",
    "fig"
   ]
  },
  {
   "cell_type": "markdown",
   "metadata": {},
   "source": [
    "### Create new DataFrame fitting weather criteria\n",
    "* Narrow down the cities to fit weather conditions.\n",
    "* Drop any rows will null values."
   ]
  },
  {
   "cell_type": "code",
   "execution_count": 10,
   "metadata": {},
   "outputs": [
    {
     "data": {
      "text/html": [
       "<div>\n",
       "<style scoped>\n",
       "    .dataframe tbody tr th:only-of-type {\n",
       "        vertical-align: middle;\n",
       "    }\n",
       "\n",
       "    .dataframe tbody tr th {\n",
       "        vertical-align: top;\n",
       "    }\n",
       "\n",
       "    .dataframe thead th {\n",
       "        text-align: right;\n",
       "    }\n",
       "</style>\n",
       "<table border=\"1\" class=\"dataframe\">\n",
       "  <thead>\n",
       "    <tr style=\"text-align: right;\">\n",
       "      <th></th>\n",
       "      <th>City</th>\n",
       "      <th>Lat</th>\n",
       "      <th>Lng</th>\n",
       "      <th>Max Temp</th>\n",
       "      <th>Humidity</th>\n",
       "      <th>Cloudiness</th>\n",
       "      <th>Wind Speed</th>\n",
       "      <th>Country</th>\n",
       "      <th>Date</th>\n",
       "    </tr>\n",
       "  </thead>\n",
       "  <tbody>\n",
       "    <tr>\n",
       "      <th>86</th>\n",
       "      <td>Dalby</td>\n",
       "      <td>-27.1833</td>\n",
       "      <td>151.2667</td>\n",
       "      <td>73.40</td>\n",
       "      <td>64</td>\n",
       "      <td>0</td>\n",
       "      <td>5.75</td>\n",
       "      <td>AU</td>\n",
       "      <td>1610665703</td>\n",
       "    </tr>\n",
       "    <tr>\n",
       "      <th>146</th>\n",
       "      <td>Kudāl</td>\n",
       "      <td>16.0333</td>\n",
       "      <td>73.6833</td>\n",
       "      <td>74.35</td>\n",
       "      <td>53</td>\n",
       "      <td>0</td>\n",
       "      <td>2.86</td>\n",
       "      <td>IN</td>\n",
       "      <td>1610665775</td>\n",
       "    </tr>\n",
       "    <tr>\n",
       "      <th>227</th>\n",
       "      <td>Wawa</td>\n",
       "      <td>9.9022</td>\n",
       "      <td>4.4192</td>\n",
       "      <td>76.50</td>\n",
       "      <td>18</td>\n",
       "      <td>0</td>\n",
       "      <td>5.70</td>\n",
       "      <td>NG</td>\n",
       "      <td>1610665913</td>\n",
       "    </tr>\n",
       "    <tr>\n",
       "      <th>343</th>\n",
       "      <td>Caravelas</td>\n",
       "      <td>-17.7125</td>\n",
       "      <td>-39.2481</td>\n",
       "      <td>77.65</td>\n",
       "      <td>81</td>\n",
       "      <td>0</td>\n",
       "      <td>7.63</td>\n",
       "      <td>BR</td>\n",
       "      <td>1610666060</td>\n",
       "    </tr>\n",
       "    <tr>\n",
       "      <th>363</th>\n",
       "      <td>Todos Santos</td>\n",
       "      <td>23.4500</td>\n",
       "      <td>-110.2167</td>\n",
       "      <td>72.00</td>\n",
       "      <td>64</td>\n",
       "      <td>0</td>\n",
       "      <td>4.00</td>\n",
       "      <td>MX</td>\n",
       "      <td>1610666124</td>\n",
       "    </tr>\n",
       "  </tbody>\n",
       "</table>\n",
       "</div>"
      ],
      "text/plain": [
       "             City      Lat       Lng  Max Temp  Humidity  Cloudiness  \\\n",
       "86          Dalby -27.1833  151.2667     73.40        64           0   \n",
       "146         Kudāl  16.0333   73.6833     74.35        53           0   \n",
       "227          Wawa   9.9022    4.4192     76.50        18           0   \n",
       "343     Caravelas -17.7125  -39.2481     77.65        81           0   \n",
       "363  Todos Santos  23.4500 -110.2167     72.00        64           0   \n",
       "\n",
       "     Wind Speed Country        Date  \n",
       "86         5.75      AU  1610665703  \n",
       "146        2.86      IN  1610665775  \n",
       "227        5.70      NG  1610665913  \n",
       "343        7.63      BR  1610666060  \n",
       "363        4.00      MX  1610666124  "
      ]
     },
     "execution_count": 10,
     "metadata": {},
     "output_type": "execute_result"
    }
   ],
   "source": [
    "# New data frame with the criteria\n",
    "city_df_filter = city_df.loc[(city_df['Max Temp'] >= 70) \n",
    "                             & (city_df['Max Temp'] < 80)\n",
    "                             & (city_df['Wind Speed'] < 10)\n",
    "                             & (city_df['Cloudiness'] == 0)]\n",
    "city_df_filter.head()"
   ]
  },
  {
   "cell_type": "markdown",
   "metadata": {},
   "source": [
    "### Hotel Map\n",
    "* Store into variable named `hotel_df`.\n",
    "* Add a \"Hotel Name\" column to the DataFrame.\n",
    "* Set parameters to search for hotels with 5000 meters.\n",
    "* Hit the Google Places API for each city's coordinates.\n",
    "* Store the first Hotel result into the DataFrame.\n",
    "* Plot markers on top of the heatmap."
   ]
  },
  {
   "cell_type": "code",
   "execution_count": 11,
   "metadata": {},
   "outputs": [
    {
     "name": "stdout",
     "output_type": "stream",
     "text": [
      "Closest hotel is Drovers Motor Inn.\n",
      "------------\n",
      "Closest hotel is Hotel Kulswamini Kudal,hotel in kudal.\n",
      "------------\n",
      "Missing field/result... skipping.\n",
      "------------\n",
      "Closest hotel is Mar Doce de Abrolhos.\n",
      "------------\n",
      "Closest hotel is Hotel California Todos Santos.\n",
      "------------\n",
      "Closest hotel is Bonthe Holiday Village.\n",
      "------------\n",
      "Missing field/result... skipping.\n",
      "------------\n",
      "Closest hotel is Hotel Apacheta.\n",
      "------------\n",
      "Missing field/result... skipping.\n",
      "------------\n"
     ]
    }
   ],
   "source": [
    "# copy the filtered DF\n",
    "hotel_df = city_df_filter.copy()\n",
    "hotel_df[\"Hotel Name\"]=\"\"\n",
    "city_limit = 10\n",
    "\n",
    "# find the closest hotel of each type to coordinates\n",
    "\n",
    "base_url = \"https://maps.googleapis.com/maps/api/place/nearbysearch/json\"\n",
    "results = \"\"\n",
    "# use iterrows to iterate through pandas dataframe\n",
    "for index, row in hotel_df.iterrows():\n",
    "\n",
    "    params = {\n",
    "    \"radius\": 5000, # radius\n",
    "    \"location\": f\"{row['Lat']},{row['Lng']}\",\n",
    "    \"type\": \"lodging\",\n",
    "    \"keyword\": \"hotel\",\n",
    "    \"key\": g_key}\n",
    "\n",
    "    # assemble url and make API request\n",
    "    response = requests.get(base_url, params=params).json()\n",
    "    \n",
    "    # extract results\n",
    "    results = response['results']\n",
    "    \n",
    "    try:\n",
    "        print(f\"Closest hotel is {results[0]['name']}.\")\n",
    "        # get hotel name and replace the coordinates with actual hotel coordinates\n",
    "        hotel_df.loc[index, 'Hotel Name'] = results[0]['name']\n",
    "        hotel_df.loc[index, 'Lat'] = results[0]['geometry']['location']['lat']\n",
    "        hotel_df.loc[index, 'Lng'] = results[0]['geometry']['location']['lng']\n",
    "        \n",
    "    except (KeyError, IndexError):\n",
    "        print(\"Missing field/result... skipping.\")\n",
    "        \n",
    "    print(\"------------\")\n",
    "\n",
    "# remove missing hotel names\n",
    "hotel_df['Hotel Name'].replace('', np.nan, inplace=True)\n",
    "hotel_df.dropna(inplace=True)\n",
    "\n",
    "# apply city count limit\n",
    "hotel_df = hotel_df.head(city_limit)"
   ]
  },
  {
   "cell_type": "code",
   "execution_count": 12,
   "metadata": {},
   "outputs": [],
   "source": [
    "# NOTE: Do not change any of the code in this cell\n",
    "\n",
    "# Using the template add the hotel marks to the heatmap\n",
    "info_box_template = \"\"\"\n",
    "<dl>\n",
    "<dt>Name</dt><dd>{Hotel Name}</dd>\n",
    "<dt>City</dt><dd>{City}</dd>\n",
    "<dt>Country</dt><dd>{Country}</dd>\n",
    "</dl>\n",
    "\"\"\"\n",
    "# Store the DataFrame Row\n",
    "# NOTE: be sure to update with your DataFrame name\n",
    "hotel_info = [info_box_template.format(**row) for index, row in hotel_df.iterrows()]\n",
    "locations = hotel_df[[\"Lat\", \"Lng\"]]"
   ]
  },
  {
   "cell_type": "code",
   "execution_count": 13,
   "metadata": {},
   "outputs": [
    {
     "data": {
      "application/vnd.jupyter.widget-view+json": {
       "model_id": "9590cf3cb28a411db796b6277e0105a9",
       "version_major": 2,
       "version_minor": 0
      },
      "text/plain": [
       "Figure(layout=FigureLayout(border='1px solid black', height='600px', margin='0 auto 0 auto', padding='1px', wi…"
      ]
     },
     "metadata": {},
     "output_type": "display_data"
    }
   ],
   "source": [
    "# Add marker layer ontop of heat map\n",
    "hotel_layer = gmaps.marker_layer(\n",
    "    locations, info_box_content = hotel_info)\n",
    "\n",
    "# Display figure\n",
    "fig = gmaps.figure(layout = figure_layout)\n",
    "fig.add_layer(heat_layer)\n",
    "fig.add_layer(hotel_layer)\n",
    "\n",
    "fig"
   ]
  },
  {
   "cell_type": "code",
   "execution_count": null,
   "metadata": {},
   "outputs": [],
   "source": []
  }
 ],
 "metadata": {
  "kernelspec": {
   "display_name": "Python 3",
   "language": "python",
   "name": "python3"
  },
  "language_info": {
   "codemirror_mode": {
    "name": "ipython",
    "version": 3
   },
   "file_extension": ".py",
   "mimetype": "text/x-python",
   "name": "python",
   "nbconvert_exporter": "python",
   "pygments_lexer": "ipython3",
   "version": "3.6.10"
  },
  "latex_envs": {
   "LaTeX_envs_menu_present": true,
   "autoclose": false,
   "autocomplete": true,
   "bibliofile": "biblio.bib",
   "cite_by": "apalike",
   "current_citInitial": 1,
   "eqLabelWithNumbers": true,
   "eqNumInitial": 1,
   "hotkeys": {
    "equation": "Ctrl-E",
    "itemize": "Ctrl-I"
   },
   "labels_anchors": false,
   "latex_user_defs": false,
   "report_style_numbering": false,
   "user_envs_cfg": false
  }
 },
 "nbformat": 4,
 "nbformat_minor": 4
}
